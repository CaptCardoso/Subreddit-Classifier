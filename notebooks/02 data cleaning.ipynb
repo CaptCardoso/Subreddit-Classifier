{
 "cells": [
  {
   "cell_type": "markdown",
   "id": "2de26089-1a9b-4142-84c7-e6b91e9e9adf",
   "metadata": {},
   "source": [
    "\n",
    "<img src=\"../images/starwarsstartrek.png\" style=\"float: center; margin: 0px; height: 150px; width: 500px\"> \n",
    "\n",
    "## SUBREDDIT CLASSIFIER\n",
    "\n",
    "###### _Author: Afolabi Cardoso_\n",
    "\n",
    "---"
   ]
  },
  {
   "cell_type": "markdown",
   "id": "2b0f84e1-7ef8-4676-b23a-dbcdba07fb3c",
   "metadata": {},
   "source": [
    "### DATA CLEANING"
   ]
  },
  {
   "cell_type": "markdown",
   "id": "f48c57b5-a805-4e66-bb81-5ab93c32c5bd",
   "metadata": {
    "tags": []
   },
   "source": [
    "---\n",
    "#### Contents:\n",
    "[Overview](#Overview) | [Imports](#Imports) | [Data Cleaning Training Set](#Data-Cleaning-Training-Set) | [Data Cleaning Test Set](#Data-Cleaning-Test-Set) | [Exports](#Exports)\n"
   ]
  },
  {
   "cell_type": "markdown",
   "id": "7f5352d8-f16a-4424-a002-98038011aa31",
   "metadata": {
    "tags": []
   },
   "source": [
    "---\n",
    "## Overview\n",
    "\n"
   ]
  },
  {
   "cell_type": "markdown",
   "id": "e957e718-a015-4eb6-b500-cbfd95eeffd1",
   "metadata": {},
   "source": [
    "---\n",
    "## Imports"
   ]
  },
  {
   "cell_type": "code",
   "execution_count": 105,
   "id": "a98b8746-9f60-4cf6-87a6-304ead26297c",
   "metadata": {},
   "outputs": [],
   "source": [
    "import pandas as pd\n",
    "import numpy as np\n",
    "import seaborn as sns\n",
    "import matplotlib.pyplot as plt\n",
    "\n",
    "from sklearn.linear_model import LogisticRegression\n",
    "from sklearn.feature_extraction.text import CountVectorizer, TfidfVectorizer\n",
    "from sklearn.pipeline import Pipeline\n",
    "from sklearn.model_selection import train_test_split, GridSearchCV\n",
    "from sklearn.metrics import plot_confusion_matrix\n"
   ]
  },
  {
   "cell_type": "code",
   "execution_count": 106,
   "id": "e5b9e485-c07e-4484-8ae7-da2549209931",
   "metadata": {},
   "outputs": [],
   "source": [
    "df = pd.read_csv('../data/raw.csv')\n",
    "df = df[['title','selftext','created_utc','subreddit']]"
   ]
  },
  {
   "cell_type": "markdown",
   "id": "0ae03af6-68de-4c3e-94a4-1ba6f9c908b0",
   "metadata": {},
   "source": [
    "Inspect the first 5 rows "
   ]
  },
  {
   "cell_type": "code",
   "execution_count": 107,
   "id": "82e34c54-40d5-41cc-aeb3-e78c56414e80",
   "metadata": {},
   "outputs": [
    {
     "data": {
      "text/html": [
       "<div>\n",
       "<style scoped>\n",
       "    .dataframe tbody tr th:only-of-type {\n",
       "        vertical-align: middle;\n",
       "    }\n",
       "\n",
       "    .dataframe tbody tr th {\n",
       "        vertical-align: top;\n",
       "    }\n",
       "\n",
       "    .dataframe thead th {\n",
       "        text-align: right;\n",
       "    }\n",
       "</style>\n",
       "<table border=\"1\" class=\"dataframe\">\n",
       "  <thead>\n",
       "    <tr style=\"text-align: right;\">\n",
       "      <th></th>\n",
       "      <th>title</th>\n",
       "      <th>selftext</th>\n",
       "      <th>created_utc</th>\n",
       "      <th>subreddit</th>\n",
       "    </tr>\n",
       "  </thead>\n",
       "  <tbody>\n",
       "    <tr>\n",
       "      <th>0</th>\n",
       "      <td>Cover Art for the Thrawn Trilogy Boxed Set</td>\n",
       "      <td>NaN</td>\n",
       "      <td>1646329719</td>\n",
       "      <td>StarWars</td>\n",
       "    </tr>\n",
       "    <tr>\n",
       "      <th>1</th>\n",
       "      <td>In your opinion, what is the most efficient li...</td>\n",
       "      <td>NaN</td>\n",
       "      <td>1646329703</td>\n",
       "      <td>StarWars</td>\n",
       "    </tr>\n",
       "    <tr>\n",
       "      <th>2</th>\n",
       "      <td>Star wars game</td>\n",
       "      <td>[removed]</td>\n",
       "      <td>1646329318</td>\n",
       "      <td>StarWars</td>\n",
       "    </tr>\n",
       "    <tr>\n",
       "      <th>3</th>\n",
       "      <td>If a Star Wars game about the famous wars in c...</td>\n",
       "      <td>[removed]</td>\n",
       "      <td>1646329234</td>\n",
       "      <td>StarWars</td>\n",
       "    </tr>\n",
       "    <tr>\n",
       "      <th>4</th>\n",
       "      <td>What makes a Star Wars fan...a FAN?</td>\n",
       "      <td>[removed]</td>\n",
       "      <td>1646329180</td>\n",
       "      <td>StarWars</td>\n",
       "    </tr>\n",
       "  </tbody>\n",
       "</table>\n",
       "</div>"
      ],
      "text/plain": [
       "                                               title   selftext  created_utc  \\\n",
       "0         Cover Art for the Thrawn Trilogy Boxed Set        NaN   1646329719   \n",
       "1  In your opinion, what is the most efficient li...        NaN   1646329703   \n",
       "2                                     Star wars game  [removed]   1646329318   \n",
       "3  If a Star Wars game about the famous wars in c...  [removed]   1646329234   \n",
       "4                What makes a Star Wars fan...a FAN?  [removed]   1646329180   \n",
       "\n",
       "  subreddit  \n",
       "0  StarWars  \n",
       "1  StarWars  \n",
       "2  StarWars  \n",
       "3  StarWars  \n",
       "4  StarWars  "
      ]
     },
     "execution_count": 107,
     "metadata": {},
     "output_type": "execute_result"
    }
   ],
   "source": [
    "df.head()"
   ]
  },
  {
   "cell_type": "markdown",
   "id": "3619232b-291f-4ac1-996b-e88d1adcc230",
   "metadata": {},
   "source": [
    "## Data cleaning"
   ]
  },
  {
   "cell_type": "markdown",
   "id": "0aa38dd2-e7bf-4997-8b83-f2b7930a957f",
   "metadata": {},
   "source": [
    "Check for null values"
   ]
  },
  {
   "cell_type": "code",
   "execution_count": 119,
   "id": "0aa23a89-9b99-4afe-9336-01b2903e85e6",
   "metadata": {},
   "outputs": [
    {
     "data": {
      "text/plain": [
       "title          0\n",
       "selftext       0\n",
       "created_utc    0\n",
       "subreddit      0\n",
       "dtype: int64"
      ]
     },
     "execution_count": 119,
     "metadata": {},
     "output_type": "execute_result"
    }
   ],
   "source": [
    "df.isnull().sum()"
   ]
  },
  {
   "cell_type": "markdown",
   "id": "9983d039-735c-43e3-8883-0632b37696c1",
   "metadata": {},
   "source": [
    "Replace the null values in selftext column with empty string"
   ]
  },
  {
   "cell_type": "code",
   "execution_count": 120,
   "id": "8eb1617c-6068-4d0f-bada-7ede33b7deed",
   "metadata": {},
   "outputs": [],
   "source": [
    "df.fillna(\" \", inplace=True)"
   ]
  },
  {
   "cell_type": "markdown",
   "id": "61fc591f-777e-489f-9085-72a80188d9bc",
   "metadata": {},
   "source": [
    "Replace the [removed] string in the selftext column with an empty string"
   ]
  },
  {
   "cell_type": "code",
   "execution_count": 121,
   "id": "41e9082f-db71-4ebf-b6d7-87f41d99a952",
   "metadata": {},
   "outputs": [],
   "source": [
    "df.replace('[removed]', \" \",inplace=True)"
   ]
  },
  {
   "cell_type": "code",
   "execution_count": 122,
   "id": "3c4c1552-15fb-4558-97e3-01a98b297f29",
   "metadata": {
    "tags": []
   },
   "outputs": [
    {
     "data": {
      "text/plain": [
       "title          0\n",
       "selftext       0\n",
       "created_utc    0\n",
       "subreddit      0\n",
       "dtype: int64"
      ]
     },
     "execution_count": 122,
     "metadata": {},
     "output_type": "execute_result"
    }
   ],
   "source": [
    "df.isnull().sum()"
   ]
  },
  {
   "cell_type": "markdown",
   "id": "4d8d8e71-fc98-49c6-b2b3-23c7603c9f93",
   "metadata": {},
   "source": [
    "Lowercase the target i.e starwars and startrek "
   ]
  },
  {
   "cell_type": "code",
   "execution_count": 112,
   "id": "40496b09-67f8-47d0-bcaf-8589b0ebb06b",
   "metadata": {},
   "outputs": [],
   "source": [
    "df['subreddit'] = df['subreddit'].map(lambda x: x.lower())"
   ]
  },
  {
   "cell_type": "markdown",
   "id": "fe17ce14-833f-42f7-b5d1-a96ef4c611d5",
   "metadata": {},
   "source": [
    "Check to see we have the right number of rows for each subreddit"
   ]
  },
  {
   "cell_type": "code",
   "execution_count": 113,
   "id": "33960711-1d43-491d-82d1-3ffd696906bd",
   "metadata": {},
   "outputs": [
    {
     "data": {
      "text/html": [
       "<div>\n",
       "<style scoped>\n",
       "    .dataframe tbody tr th:only-of-type {\n",
       "        vertical-align: middle;\n",
       "    }\n",
       "\n",
       "    .dataframe tbody tr th {\n",
       "        vertical-align: top;\n",
       "    }\n",
       "\n",
       "    .dataframe thead th {\n",
       "        text-align: right;\n",
       "    }\n",
       "</style>\n",
       "<table border=\"1\" class=\"dataframe\">\n",
       "  <thead>\n",
       "    <tr style=\"text-align: right;\">\n",
       "      <th></th>\n",
       "      <th>title</th>\n",
       "      <th>selftext</th>\n",
       "      <th>created_utc</th>\n",
       "    </tr>\n",
       "    <tr>\n",
       "      <th>subreddit</th>\n",
       "      <th></th>\n",
       "      <th></th>\n",
       "      <th></th>\n",
       "    </tr>\n",
       "  </thead>\n",
       "  <tbody>\n",
       "    <tr>\n",
       "      <th>startrek</th>\n",
       "      <td>1000</td>\n",
       "      <td>1000</td>\n",
       "      <td>1000</td>\n",
       "    </tr>\n",
       "    <tr>\n",
       "      <th>starwars</th>\n",
       "      <td>1002</td>\n",
       "      <td>1002</td>\n",
       "      <td>1002</td>\n",
       "    </tr>\n",
       "  </tbody>\n",
       "</table>\n",
       "</div>"
      ],
      "text/plain": [
       "           title  selftext  created_utc\n",
       "subreddit                              \n",
       "startrek    1000      1000         1000\n",
       "starwars    1002      1002         1002"
      ]
     },
     "execution_count": 113,
     "metadata": {},
     "output_type": "execute_result"
    }
   ],
   "source": [
    "df.groupby('subreddit').count()"
   ]
  },
  {
   "cell_type": "markdown",
   "id": "59a19462-7432-4d8a-bbc7-18a6121f5843",
   "metadata": {},
   "source": [
    "We need only 1000 subreddits each, so we drop the two extra rows from the StarWars subreddit"
   ]
  },
  {
   "cell_type": "code",
   "execution_count": 114,
   "id": "21c2ed38-56e1-4fb4-b3fd-0c3041bbfcd4",
   "metadata": {},
   "outputs": [],
   "source": [
    "df.drop(index =[0,1], inplace=True)"
   ]
  },
  {
   "cell_type": "code",
   "execution_count": 123,
   "id": "13971c09-be36-49a1-9fc4-78cffe2f7575",
   "metadata": {},
   "outputs": [
    {
     "data": {
      "text/html": [
       "<div>\n",
       "<style scoped>\n",
       "    .dataframe tbody tr th:only-of-type {\n",
       "        vertical-align: middle;\n",
       "    }\n",
       "\n",
       "    .dataframe tbody tr th {\n",
       "        vertical-align: top;\n",
       "    }\n",
       "\n",
       "    .dataframe thead th {\n",
       "        text-align: right;\n",
       "    }\n",
       "</style>\n",
       "<table border=\"1\" class=\"dataframe\">\n",
       "  <thead>\n",
       "    <tr style=\"text-align: right;\">\n",
       "      <th></th>\n",
       "      <th>title</th>\n",
       "      <th>selftext</th>\n",
       "      <th>created_utc</th>\n",
       "    </tr>\n",
       "    <tr>\n",
       "      <th>subreddit</th>\n",
       "      <th></th>\n",
       "      <th></th>\n",
       "      <th></th>\n",
       "    </tr>\n",
       "  </thead>\n",
       "  <tbody>\n",
       "    <tr>\n",
       "      <th>startrek</th>\n",
       "      <td>1000</td>\n",
       "      <td>1000</td>\n",
       "      <td>1000</td>\n",
       "    </tr>\n",
       "    <tr>\n",
       "      <th>starwars</th>\n",
       "      <td>1000</td>\n",
       "      <td>1000</td>\n",
       "      <td>1000</td>\n",
       "    </tr>\n",
       "  </tbody>\n",
       "</table>\n",
       "</div>"
      ],
      "text/plain": [
       "           title  selftext  created_utc\n",
       "subreddit                              \n",
       "startrek    1000      1000         1000\n",
       "starwars    1000      1000         1000"
      ]
     },
     "execution_count": 123,
     "metadata": {},
     "output_type": "execute_result"
    }
   ],
   "source": [
    "df.groupby('subreddit').count()"
   ]
  },
  {
   "cell_type": "markdown",
   "id": "ecb6323a-df67-47cc-a00d-750315a9dad9",
   "metadata": {
    "tags": []
   },
   "source": [
    "## Export"
   ]
  },
  {
   "cell_type": "markdown",
   "id": "bff118c0-2d65-4275-a609-8f1b93ff0783",
   "metadata": {},
   "source": [
    "Export the cleaned dataframe as clean.csv"
   ]
  },
  {
   "cell_type": "code",
   "execution_count": 116,
   "id": "c5421ff3-5615-4b7f-a723-0d4de267b9a0",
   "metadata": {},
   "outputs": [],
   "source": [
    "df.to_csv('../data/clean.csv', index=False)"
   ]
  },
  {
   "cell_type": "code",
   "execution_count": null,
   "id": "a8a741b5-195b-40da-b428-b779e795a675",
   "metadata": {},
   "outputs": [],
   "source": []
  }
 ],
 "metadata": {
  "kernelspec": {
   "display_name": "Python 3 (ipykernel)",
   "language": "python",
   "name": "python3"
  },
  "language_info": {
   "codemirror_mode": {
    "name": "ipython",
    "version": 3
   },
   "file_extension": ".py",
   "mimetype": "text/x-python",
   "name": "python",
   "nbconvert_exporter": "python",
   "pygments_lexer": "ipython3",
   "version": "3.10.2"
  },
  "widgets": {
   "application/vnd.jupyter.widget-state+json": {
    "state": {},
    "version_major": 2,
    "version_minor": 0
   }
  }
 },
 "nbformat": 4,
 "nbformat_minor": 5
}
