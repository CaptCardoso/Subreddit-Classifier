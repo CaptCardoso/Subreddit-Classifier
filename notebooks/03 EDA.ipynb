{
 "cells": [
  {
   "cell_type": "markdown",
   "id": "60026db1-f8d8-4b3c-a64f-d11354dc89d4",
   "metadata": {},
   "source": [
    "\n",
    "<img src=\"../images/starwarsstartrek.png\" style=\"float: center; margin: 0px; height: 150px; width: 500px\"> \n",
    "\n",
    "## SUBREDDIT CLASSIFIER\n",
    "\n",
    "###### _Author: Afolabi Cardoso_\n",
    "\n",
    "---"
   ]
  },
  {
   "cell_type": "markdown",
   "id": "ecb9e2bb-5056-48da-a481-d701d85b1855",
   "metadata": {},
   "source": [
    "### EDA and Pre-processing"
   ]
  },
  {
   "cell_type": "markdown",
   "id": "7f743587-b30c-449e-9f88-b7fe7143bebe",
   "metadata": {
    "tags": []
   },
   "source": [
    "---\n",
    "#### Contents:\n",
    "[Overview](#Overview) | [Imports](#Imports) | [EDA](#EDA) | [Sentiment analyser](#Sentiment-analyser) | [Pre processing](#Pre-processing) | [Exports](#Exports)\n"
   ]
  },
  {
   "cell_type": "markdown",
   "id": "3dc66e1a-2361-4cab-8b1b-e8e86cee9f7c",
   "metadata": {
    "tags": []
   },
   "source": [
    "---\n",
    "#### Overview\n",
    "In this notebook, I will be performing exploratory data analysis and pre processing on the clean dataset. I created bar charts for the top occuring words and characters. \n",
    "\n",
    "I also performed sentiment analysis on the both subreddits. \n"
   ]
  },
  {
   "cell_type": "markdown",
   "id": "69276c71-91c8-409a-8829-9ddd34c463e8",
   "metadata": {},
   "source": [
    "---\n",
    "#### Imports"
   ]
  },
  {
   "cell_type": "code",
   "execution_count": 295,
   "id": "b6363b61-7420-4af3-a879-b3c966b12b47",
   "metadata": {},
   "outputs": [],
   "source": [
    "import pandas as pd\n",
    "import numpy as np\n",
    "import seaborn as sns\n",
    "import matplotlib.pyplot as plt\n",
    "\n",
    "from sklearn.linear_model import LogisticRegression\n",
    "from sklearn.feature_extraction.text import CountVectorizer, TfidfVectorizer\n",
    "from sklearn.pipeline import Pipeline\n",
    "from sklearn.model_selection import train_test_split, GridSearchCV\n",
    "from sklearn.metrics import plot_confusion_matrix\n",
    "\n",
    "from nltk.tokenize import sent_tokenize, word_tokenize, RegexpTokenizer\n",
    "from nltk.stem import WordNetLemmatizer\n",
    "from nltk.stem.porter import PorterStemmer\n",
    "from nltk.corpus import stopwords\n",
    "from nltk.sentiment.vader import SentimentIntensityAnalyzer\n",
    "import re"
   ]
  },
  {
   "cell_type": "code",
   "execution_count": 296,
   "id": "c0ac93df-d386-47e3-8b14-e494f5ba732f",
   "metadata": {},
   "outputs": [],
   "source": [
    "df = pd.read_csv('../data/clean.csv')\n",
    "df = df[['title','selftext','created_utc','subreddit']]"
   ]
  },
  {
   "cell_type": "code",
   "execution_count": 297,
   "id": "2864e7c9-878c-4bde-ad2f-805e00afa5f2",
   "metadata": {},
   "outputs": [
    {
     "data": {
      "text/html": [
       "<div>\n",
       "<style scoped>\n",
       "    .dataframe tbody tr th:only-of-type {\n",
       "        vertical-align: middle;\n",
       "    }\n",
       "\n",
       "    .dataframe tbody tr th {\n",
       "        vertical-align: top;\n",
       "    }\n",
       "\n",
       "    .dataframe thead th {\n",
       "        text-align: right;\n",
       "    }\n",
       "</style>\n",
       "<table border=\"1\" class=\"dataframe\">\n",
       "  <thead>\n",
       "    <tr style=\"text-align: right;\">\n",
       "      <th></th>\n",
       "      <th>title</th>\n",
       "      <th>selftext</th>\n",
       "      <th>created_utc</th>\n",
       "      <th>subreddit</th>\n",
       "    </tr>\n",
       "  </thead>\n",
       "  <tbody>\n",
       "    <tr>\n",
       "      <th>0</th>\n",
       "      <td>star wars game</td>\n",
       "      <td></td>\n",
       "      <td>1646329318</td>\n",
       "      <td>starwars</td>\n",
       "    </tr>\n",
       "    <tr>\n",
       "      <th>1</th>\n",
       "      <td>if a star wars game about the famous wars in c...</td>\n",
       "      <td></td>\n",
       "      <td>1646329234</td>\n",
       "      <td>starwars</td>\n",
       "    </tr>\n",
       "    <tr>\n",
       "      <th>2</th>\n",
       "      <td>what makes a star wars fan   a fan</td>\n",
       "      <td></td>\n",
       "      <td>1646329180</td>\n",
       "      <td>starwars</td>\n",
       "    </tr>\n",
       "    <tr>\n",
       "      <th>3</th>\n",
       "      <td>what makes a star wars fan</td>\n",
       "      <td></td>\n",
       "      <td>1646328985</td>\n",
       "      <td>starwars</td>\n",
       "    </tr>\n",
       "    <tr>\n",
       "      <th>4</th>\n",
       "      <td>random clone wars thoughts</td>\n",
       "      <td>the series makes me appreciate anakin so much ...</td>\n",
       "      <td>1646328915</td>\n",
       "      <td>starwars</td>\n",
       "    </tr>\n",
       "  </tbody>\n",
       "</table>\n",
       "</div>"
      ],
      "text/plain": [
       "                                               title  \\\n",
       "0                                     star wars game   \n",
       "1  if a star wars game about the famous wars in c...   \n",
       "2                what makes a star wars fan   a fan    \n",
       "3                        what makes a star wars fan    \n",
       "4                         random clone wars thoughts   \n",
       "\n",
       "                                            selftext  created_utc subreddit  \n",
       "0                                                      1646329318  starwars  \n",
       "1                                                      1646329234  starwars  \n",
       "2                                                      1646329180  starwars  \n",
       "3                                                      1646328985  starwars  \n",
       "4  the series makes me appreciate anakin so much ...   1646328915  starwars  "
      ]
     },
     "execution_count": 297,
     "metadata": {},
     "output_type": "execute_result"
    }
   ],
   "source": [
    "df.head()"
   ]
  },
  {
   "cell_type": "markdown",
   "id": "e652df7f-c74e-4a97-8830-f298d5785d27",
   "metadata": {},
   "source": [
    "#### EDA"
   ]
  },
  {
   "cell_type": "markdown",
   "id": "a2777c94-58b9-4182-87bb-263da8b0e452",
   "metadata": {},
   "source": [
    "#### Top occuring words"
   ]
  },
  {
   "cell_type": "markdown",
   "id": "5d32554d-3533-4e19-82a6-1b5d307c77f1",
   "metadata": {},
   "source": [
    "Let's start by looking at the top occuring words in the tittle and selftext column.\n",
    "To do this, I will CountVectorize.\n",
    "\n",
    "I will use a CountVectorizer with stop_words as english and ngram_range of 1,1"
   ]
  },
  {
   "cell_type": "code",
   "execution_count": 298,
   "id": "399cc9d8-b8c0-4257-8f19-0db3b125070e",
   "metadata": {},
   "outputs": [],
   "source": [
    "cvec = CountVectorizer(stop_words='english', ngram_range = (1,1))"
   ]
  },
  {
   "cell_type": "code",
   "execution_count": 299,
   "id": "d6bd923b-454f-46fd-84e6-d2c39af9ee02",
   "metadata": {
    "tags": []
   },
   "outputs": [
    {
     "data": {
      "text/plain": [
       "CountVectorizer(stop_words='english')"
      ]
     },
     "execution_count": 299,
     "metadata": {},
     "output_type": "execute_result"
    }
   ],
   "source": [
    "cvec.fit(df['title'])"
   ]
  },
  {
   "cell_type": "code",
   "execution_count": 300,
   "id": "9e180b7f-aa7c-40e7-a545-e2184527498d",
   "metadata": {
    "tags": []
   },
   "outputs": [],
   "source": [
    "X = cvec.transform(df['title'])"
   ]
  },
  {
   "cell_type": "code",
   "execution_count": 301,
   "id": "6a659ef7-938f-4ce9-a197-1d50da566f4a",
   "metadata": {},
   "outputs": [
    {
     "data": {
      "text/plain": [
       "(2000, 3986)"
      ]
     },
     "execution_count": 301,
     "metadata": {},
     "output_type": "execute_result"
    }
   ],
   "source": [
    "X.shape"
   ]
  },
  {
   "cell_type": "code",
   "execution_count": 302,
   "id": "3c23a49c-f253-4d83-9b94-a872825e2230",
   "metadata": {
    "tags": []
   },
   "outputs": [],
   "source": [
    "cvec_df = pd.DataFrame(X.todense(), columns=cvec.get_feature_names_out())"
   ]
  },
  {
   "cell_type": "code",
   "execution_count": 303,
   "id": "32bb3181-1650-40f2-bcbd-c0e3fa28feeb",
   "metadata": {},
   "outputs": [
    {
     "data": {
      "text/html": [
       "<div>\n",
       "<style scoped>\n",
       "    .dataframe tbody tr th:only-of-type {\n",
       "        vertical-align: middle;\n",
       "    }\n",
       "\n",
       "    .dataframe tbody tr th {\n",
       "        vertical-align: top;\n",
       "    }\n",
       "\n",
       "    .dataframe thead th {\n",
       "        text-align: right;\n",
       "    }\n",
       "</style>\n",
       "<table border=\"1\" class=\"dataframe\">\n",
       "  <thead>\n",
       "    <tr style=\"text-align: right;\">\n",
       "      <th></th>\n",
       "      <th>000</th>\n",
       "      <th>001</th>\n",
       "      <th>002</th>\n",
       "      <th>01</th>\n",
       "      <th>04x02</th>\n",
       "      <th>061</th>\n",
       "      <th>10</th>\n",
       "      <th>100</th>\n",
       "      <th>1000</th>\n",
       "      <th>102</th>\n",
       "      <th>...</th>\n",
       "      <th>zero</th>\n",
       "      <th>ziegfeld</th>\n",
       "      <th>zimmer</th>\n",
       "      <th>zine</th>\n",
       "      <th>ziro</th>\n",
       "      <th>zoe</th>\n",
       "      <th>zoomable</th>\n",
       "      <th>zoomers</th>\n",
       "      <th>zora</th>\n",
       "      <th>имчисм</th>\n",
       "    </tr>\n",
       "  </thead>\n",
       "  <tbody>\n",
       "    <tr>\n",
       "      <th>0</th>\n",
       "      <td>0</td>\n",
       "      <td>0</td>\n",
       "      <td>0</td>\n",
       "      <td>0</td>\n",
       "      <td>0</td>\n",
       "      <td>0</td>\n",
       "      <td>0</td>\n",
       "      <td>0</td>\n",
       "      <td>0</td>\n",
       "      <td>0</td>\n",
       "      <td>...</td>\n",
       "      <td>0</td>\n",
       "      <td>0</td>\n",
       "      <td>0</td>\n",
       "      <td>0</td>\n",
       "      <td>0</td>\n",
       "      <td>0</td>\n",
       "      <td>0</td>\n",
       "      <td>0</td>\n",
       "      <td>0</td>\n",
       "      <td>0</td>\n",
       "    </tr>\n",
       "    <tr>\n",
       "      <th>1</th>\n",
       "      <td>0</td>\n",
       "      <td>0</td>\n",
       "      <td>0</td>\n",
       "      <td>0</td>\n",
       "      <td>0</td>\n",
       "      <td>0</td>\n",
       "      <td>0</td>\n",
       "      <td>0</td>\n",
       "      <td>0</td>\n",
       "      <td>0</td>\n",
       "      <td>...</td>\n",
       "      <td>0</td>\n",
       "      <td>0</td>\n",
       "      <td>0</td>\n",
       "      <td>0</td>\n",
       "      <td>0</td>\n",
       "      <td>0</td>\n",
       "      <td>0</td>\n",
       "      <td>0</td>\n",
       "      <td>0</td>\n",
       "      <td>0</td>\n",
       "    </tr>\n",
       "    <tr>\n",
       "      <th>2</th>\n",
       "      <td>0</td>\n",
       "      <td>0</td>\n",
       "      <td>0</td>\n",
       "      <td>0</td>\n",
       "      <td>0</td>\n",
       "      <td>0</td>\n",
       "      <td>0</td>\n",
       "      <td>0</td>\n",
       "      <td>0</td>\n",
       "      <td>0</td>\n",
       "      <td>...</td>\n",
       "      <td>0</td>\n",
       "      <td>0</td>\n",
       "      <td>0</td>\n",
       "      <td>0</td>\n",
       "      <td>0</td>\n",
       "      <td>0</td>\n",
       "      <td>0</td>\n",
       "      <td>0</td>\n",
       "      <td>0</td>\n",
       "      <td>0</td>\n",
       "    </tr>\n",
       "    <tr>\n",
       "      <th>3</th>\n",
       "      <td>0</td>\n",
       "      <td>0</td>\n",
       "      <td>0</td>\n",
       "      <td>0</td>\n",
       "      <td>0</td>\n",
       "      <td>0</td>\n",
       "      <td>0</td>\n",
       "      <td>0</td>\n",
       "      <td>0</td>\n",
       "      <td>0</td>\n",
       "      <td>...</td>\n",
       "      <td>0</td>\n",
       "      <td>0</td>\n",
       "      <td>0</td>\n",
       "      <td>0</td>\n",
       "      <td>0</td>\n",
       "      <td>0</td>\n",
       "      <td>0</td>\n",
       "      <td>0</td>\n",
       "      <td>0</td>\n",
       "      <td>0</td>\n",
       "    </tr>\n",
       "    <tr>\n",
       "      <th>4</th>\n",
       "      <td>0</td>\n",
       "      <td>0</td>\n",
       "      <td>0</td>\n",
       "      <td>0</td>\n",
       "      <td>0</td>\n",
       "      <td>0</td>\n",
       "      <td>0</td>\n",
       "      <td>0</td>\n",
       "      <td>0</td>\n",
       "      <td>0</td>\n",
       "      <td>...</td>\n",
       "      <td>0</td>\n",
       "      <td>0</td>\n",
       "      <td>0</td>\n",
       "      <td>0</td>\n",
       "      <td>0</td>\n",
       "      <td>0</td>\n",
       "      <td>0</td>\n",
       "      <td>0</td>\n",
       "      <td>0</td>\n",
       "      <td>0</td>\n",
       "    </tr>\n",
       "  </tbody>\n",
       "</table>\n",
       "<p>5 rows × 3986 columns</p>\n",
       "</div>"
      ],
      "text/plain": [
       "   000  001  002  01  04x02  061  10  100  1000  102  ...  zero  ziegfeld  \\\n",
       "0    0    0    0   0      0    0   0    0     0    0  ...     0         0   \n",
       "1    0    0    0   0      0    0   0    0     0    0  ...     0         0   \n",
       "2    0    0    0   0      0    0   0    0     0    0  ...     0         0   \n",
       "3    0    0    0   0      0    0   0    0     0    0  ...     0         0   \n",
       "4    0    0    0   0      0    0   0    0     0    0  ...     0         0   \n",
       "\n",
       "   zimmer  zine  ziro  zoe  zoomable  zoomers  zora  имчисм  \n",
       "0       0     0     0    0         0        0     0       0  \n",
       "1       0     0     0    0         0        0     0       0  \n",
       "2       0     0     0    0         0        0     0       0  \n",
       "3       0     0     0    0         0        0     0       0  \n",
       "4       0     0     0    0         0        0     0       0  \n",
       "\n",
       "[5 rows x 3986 columns]"
      ]
     },
     "execution_count": 303,
     "metadata": {},
     "output_type": "execute_result"
    }
   ],
   "source": [
    "cvec_df.head()"
   ]
  },
  {
   "cell_type": "markdown",
   "id": "9787a5d5-610b-42de-8702-8841dd9f6a98",
   "metadata": {},
   "source": [
    "#### Top 10 occuring words\n",
    "What are the 10 most common words in the corpus "
   ]
  },
  {
   "cell_type": "code",
   "execution_count": 320,
   "id": "638c4abf-007f-411f-8028-c0a1d789a5f7",
   "metadata": {},
   "outputs": [],
   "source": [
    "top_ten_starwars = cvec_df[:999].sum().sort_values(ascending=False)[:15] #top ten in starwars subreddit\n",
    "top_ten_startrek = cvec_df[1000:2000].sum().sort_values(ascending=False)[:15]  #top ten in startrek subreddit\n",
    "top_ten_both = cvec_df.sum().sort_values(ascending=False)[:15]  #top ten in both"
   ]
  },
  {
   "cell_type": "markdown",
   "id": "87f5e8c1-c088-4cdc-bfbb-36f184465de6",
   "metadata": {},
   "source": [
    "Bar graph showing top 10 words"
   ]
  },
  {
   "cell_type": "code",
   "execution_count": 329,
   "id": "84b92f3c-3886-48f2-a0a9-3ef48b4bd0ce",
   "metadata": {},
   "outputs": [
    {
     "data": {
      "image/png": "[encoded data removed]",
      "text/plain": [
       "<Figure size 1440x720 with 3 Axes>"
      ]
     },
     "metadata": {
      "needs_background": "light"
     },
     "output_type": "display_data"
    }
   ],
   "source": [
    "#create two axis \n",
    "fig ,ax = plt.subplots(1,3,figsize = (20,10))\n",
    "\n",
    "#set color for largest bar\n",
    "colr = ['grey' if (x<max(top_ten_both)) else 'purple' for x in top_ten_both]\n",
    "\n",
    "#both bar chart\n",
    "sns.barplot(ax = ax[0], x = top_ten_both[:10], y = top_ten_both[:10].index ,palette = colr)\n",
    "\n",
    "#starwars bar chart\n",
    "sns.barplot(ax = ax[1], x = top_ten_starwars[:10], y = top_ten_starwars[:10].index ,palette = colr)\n",
    "\n",
    "#starwars bar chart\n",
    "sns.barplot(ax = ax[2], x = top_ten_startrek[:10], y = top_ten_startrek[:10].index ,palette = colr)\n",
    "\n",
    "#set labels\n",
    "\n",
    "param = {'fontsize': 15,\n",
    "        'fontweight': 2,\n",
    "        }\n",
    "\n",
    "ax[0].set_title('Top ten words in both subreddits', fontdict = param)\n",
    "ax[1].set_title('Top ten words in starwars subreddit', fontdict = param)\n",
    "ax[2].set_title('Top ten words in startrek subreddit', fontdict = param);"
   ]
  },
  {
   "cell_type": "markdown",
   "id": "94444d53-53a3-445d-a967-f3edaf5ee201",
   "metadata": {},
   "source": [
    "#### Most popular characters"
   ]
  },
  {
   "cell_type": "markdown",
   "id": "85485331-e6ce-436d-834b-b3f294a86e73",
   "metadata": {},
   "source": [
    "I created a list of the top characters in both starwars and startrek. I will use that list to find the most talked about characters in the subreddits"
   ]
  },
  {
   "cell_type": "code",
   "execution_count": 306,
   "id": "8096cf71-18d4-45e4-ae84-f60c71933faa",
   "metadata": {},
   "outputs": [],
   "source": [
    "characters = [ 'vader','anakin','skywalker', 'ahsoka', 'solo','leia','yoda','obi','kenobi',\n",
    "              'palpatime','rey','chewbecca','r2d2','kylo','boba','maul','mace','dooku','padme',\n",
    "              'grogu','jabba','finn','grievous','snoke','mandalorian','gerrera','rex','ventress','bb8','bane',\n",
    "              'spock','kirk','picard','worf','nyota','mccoy','seven','scotty','sisko','data','hikaru','riker','dax',\n",
    "              'troi','kathryn','miles','kira','forge','crusher','odo','tuvok','q',\n",
    "              'guinan','burnham','saru','tilly','voq','ash','stamets','lorca','culber','pike','booker','adira','reno'\n",
    "             ]\n"
   ]
  },
  {
   "cell_type": "code",
   "execution_count": 307,
   "id": "605b132c-a66f-47c5-a49c-c2186202e915",
   "metadata": {},
   "outputs": [],
   "source": [
    "def character_check(string):\n",
    "    lst = string.lower().split(\" \")\n",
    "    for char in lst:\n",
    "        if char in characters:\n",
    "            return char\n"
   ]
  },
  {
   "cell_type": "code",
   "execution_count": 308,
   "id": "e2acc115-e744-47fb-a29b-4d61e5a1c321",
   "metadata": {},
   "outputs": [],
   "source": [
    "df_starwars = df[df['subreddit'] == 'starwars']\n",
    "df_startrek = df[df['subreddit'] == 'startrek']"
   ]
  },
  {
   "cell_type": "code",
   "execution_count": 309,
   "id": "12d33e23-bece-4e06-9bd1-362a37df793c",
   "metadata": {},
   "outputs": [],
   "source": [
    "# Top characters in both subreddits\n",
    "top_char_sw = df_starwars['title'].map(character_check).value_counts()\n",
    "top_char_st = df_startrek['title'].map(character_check).value_counts()"
   ]
  },
  {
   "cell_type": "code",
   "execution_count": 328,
   "id": "1194aaec-9422-4d7b-be9f-d9c387710c53",
   "metadata": {},
   "outputs": [
    {
     "data": {
      "image/png": "[encoded data removed]",
      "text/plain": [
       "<Figure size 1440x360 with 2 Axes>"
      ]
     },
     "metadata": {
      "needs_background": "light"
     },
     "output_type": "display_data"
    }
   ],
   "source": [
    "\n",
    "#create two axis \n",
    "fig ,ax = plt.subplots(1,2,figsize = (20,5))\n",
    "\n",
    "#set color for largest bar\n",
    "colr = ['grey' if (x<max(top_char_st)) else 'purple' for x in top_char_st]\n",
    "colr = ['grey' if (x<max(top_char_sw)) else 'purple' for x in top_char_sw]\n",
    "\n",
    "\n",
    "#starwars bar chart\n",
    "sns.barplot(ax = ax[0], x = top_char_sw[:10], y = top_char_sw[:10].index ,palette = colr)\n",
    "\n",
    "#startrek bar chart\n",
    "sns.barplot(ax = ax[1], x = top_char_st[:10], y = top_char_st[:10].index ,palette = colr)\n",
    "\n",
    "param = {'fontsize': 15,\n",
    "        'fontweight': 2,\n",
    "        }\n",
    "\n",
    "#set labels\n",
    "ax[0].set(xlabel = 'word count')\n",
    "ax[1].set(xlabel = 'word count')\n",
    "ax[0].set_title('Top characters in starwars subreddit', fontdict=param)\n",
    "ax[1].set_title('Top characters in startrek subreddit', fontdict=param);"
   ]
  },
  {
   "cell_type": "markdown",
   "id": "2abbdee5-ba8b-42fb-88bb-47211e16d644",
   "metadata": {},
   "source": [
    "#### Sentiment analyser"
   ]
  },
  {
   "cell_type": "markdown",
   "id": "4e55a3a8-525d-40e8-8689-497514200e0c",
   "metadata": {},
   "source": [
    "Sentiment analysis is a method by which we try to determine the polarity of a statment. In this case, we will use sentiment analysis to compare the two subreddits. I am curious to see which group of fans have more positive sentiments.\n",
    "\n",
    "From the VADAR NLTK library, I will use the SentimentIntensityAnalyzer() method. This method takes in a string and returns a dictionary containing, a positive, neutral, negative and compound value. We will be using the compound score to perform our analysis."
   ]
  },
  {
   "cell_type": "code",
   "execution_count": 311,
   "id": "18a91a45-ba43-4dc3-ab70-ea2ee8efb3a6",
   "metadata": {},
   "outputs": [],
   "source": [
    "#Instantiate the analyser\n",
    "sia = SentimentIntensityAnalyzer()"
   ]
  },
  {
   "cell_type": "code",
   "execution_count": 312,
   "id": "f5178d01-be30-4c46-aa32-4b13c9606130",
   "metadata": {},
   "outputs": [],
   "source": [
    "#create a new column for the mood\n",
    "df['mood'] = df['title'].map(lambda x: sia.polarity_scores(x)['compound'])"
   ]
  },
  {
   "cell_type": "markdown",
   "id": "11b0c45b-3cdc-41ed-b0a4-7f945c53b299",
   "metadata": {},
   "source": [
    "Let's plot the distribution of the mood for both "
   ]
  },
  {
   "cell_type": "code",
   "execution_count": 314,
   "id": "ea46a287-9238-4612-9589-ce408667939e",
   "metadata": {},
   "outputs": [
    {
     "data": {
      "image/png": "[encoded data removed]",
      "text/plain": [
       "<Figure size 1440x720 with 1 Axes>"
      ]
     },
     "metadata": {
      "needs_background": "light"
     },
     "output_type": "display_data"
    }
   ],
   "source": [
    "plt.figure(figsize=(20,10))\n",
    "plt.hist(df[df['subreddit'] == 'starwars']['mood'],color='red', alpha=.5, label = 'starwars')\n",
    "plt.hist(df[df['subreddit'] == 'startrek']['mood'],color='blue', alpha=.5, label = 'startrek')\n",
    "plt.title('Compound sentiment')\n",
    "plt.xlabel('Compound score')\n",
    "plt.legend();"
   ]
  },
  {
   "cell_type": "code",
   "execution_count": 261,
   "id": "2f7168d9-53e6-424d-8e28-6e3252442873",
   "metadata": {},
   "outputs": [
    {
     "data": {
      "text/plain": [
       "subreddit\n",
       "startrek    0.049556\n",
       "starwars   -0.009407\n",
       "Name: mood, dtype: float64"
      ]
     },
     "execution_count": 261,
     "metadata": {},
     "output_type": "execute_result"
    }
   ],
   "source": [
    "df.groupby('subreddit').mean()['mood']"
   ]
  },
  {
   "cell_type": "markdown",
   "id": "977003ea-7845-4843-b26c-1f760af3e98d",
   "metadata": {},
   "source": [
    "They both have sentiments close to neutral. However, starwars has a slightly more negative sentiment score overall as compared to startrek. I believe this negative sentiment score can be attributed to certain negative words or phrases i.e wars and battle."
   ]
  },
  {
   "cell_type": "markdown",
   "id": "53f644da-a409-4fa5-a188-d0d203c4dadf",
   "metadata": {
    "tags": []
   },
   "source": [
    "#### Pre processing"
   ]
  },
  {
   "cell_type": "markdown",
   "id": "c0a55008-3613-45c3-b29a-4b587ca8946c",
   "metadata": {
    "tags": []
   },
   "source": [
    "#### Remove common words"
   ]
  },
  {
   "cell_type": "markdown",
   "id": "1257ac91-7401-4957-8ed2-bec076e3e2e3",
   "metadata": {
    "tags": []
   },
   "source": [
    "The chart above shows that the word star occures very frequently in both subreddits. I will remove it to prevent it from negatively affecting the model "
   ]
  },
  {
   "cell_type": "code",
   "execution_count": 262,
   "id": "dcf38e4c-046c-4460-9e98-dab7def050f0",
   "metadata": {},
   "outputs": [],
   "source": [
    "def  remove_words(str):\n",
    "    words = ['star']\n",
    "    result = []\n",
    "    for word in str.split(' '):\n",
    "        if word.lower() not in words:\n",
    "            result.append(word)\n",
    "    return ' '.join(result)\n",
    "\n",
    "df['title'] = df['title'].map(remove_words)"
   ]
  },
  {
   "cell_type": "code",
   "execution_count": 263,
   "id": "1985dae3-7864-4367-a63e-0b1d4a75f65b",
   "metadata": {},
   "outputs": [
    {
     "data": {
      "text/plain": [
       "0                                               wars game\n",
       "1          if a wars game about the famous wars in comics\n",
       "2                          what makes a wars fan   a fan \n",
       "3                                  what makes a wars fan \n",
       "4                              random clone wars thoughts\n",
       "                              ...                        \n",
       "1995      i have finally watched ds9 from start to finish\n",
       "1996                                           tos script\n",
       "1997    how did you get into trek  what series was you...\n",
       "1998    if you ve never seen this  this is the prototy...\n",
       "1999    the ready room   all in   sonequa martin green...\n",
       "Name: title, Length: 2000, dtype: object"
      ]
     },
     "execution_count": 263,
     "metadata": {},
     "output_type": "execute_result"
    }
   ],
   "source": [
    "df['title']"
   ]
  },
  {
   "cell_type": "markdown",
   "id": "255cc641-d2cd-4c50-8c4e-cbfac5945664",
   "metadata": {},
   "source": [
    "I will binarize the target variable. I will set the value startrek to 0 and starwars to 1"
   ]
  },
  {
   "cell_type": "code",
   "execution_count": 264,
   "id": "c96e122b-5fc7-4029-9ed1-88caeee0311c",
   "metadata": {},
   "outputs": [],
   "source": [
    "df['subreddit'] = df['subreddit'].map({'startrek':0,\n",
    "                                      'starwars':1} )"
   ]
  },
  {
   "cell_type": "code",
   "execution_count": 265,
   "id": "c4340ad2-e047-4a8f-9d47-176fbf55197b",
   "metadata": {},
   "outputs": [
    {
     "data": {
      "text/plain": [
       "0"
      ]
     },
     "execution_count": 265,
     "metadata": {},
     "output_type": "execute_result"
    }
   ],
   "source": [
    "df['title'].isna().sum()"
   ]
  },
  {
   "cell_type": "markdown",
   "id": "dc77db07-00d6-4e31-90ec-00420f9f98f4",
   "metadata": {
    "tags": []
   },
   "source": [
    "## Exports"
   ]
  },
  {
   "cell_type": "markdown",
   "id": "6f147bf7-780c-4b4a-89e9-afbb76db9305",
   "metadata": {},
   "source": [
    "Export the cleaned dataframe as clean.csv"
   ]
  },
  {
   "cell_type": "code",
   "execution_count": 266,
   "id": "65b34c71-b488-4051-97bd-1bf39f7063c0",
   "metadata": {},
   "outputs": [],
   "source": [
    "df.to_csv('../data/preprocessed.csv', index=False)"
   ]
  },
  {
   "cell_type": "code",
   "execution_count": null,
   "id": "08602bad-1d48-4429-93d5-fb33c00cc728",
   "metadata": {},
   "outputs": [],
   "source": []
  }
 ],
 "metadata": {
  "kernelspec": {
   "display_name": "Python 3 (ipykernel)",
   "language": "python",
   "name": "python3"
  },
  "language_info": {
   "codemirror_mode": {
    "name": "ipython",
    "version": 3
   },
   "file_extension": ".py",
   "mimetype": "text/x-python",
   "name": "python",
   "nbconvert_exporter": "python",
   "pygments_lexer": "ipython3",
   "version": "3.10.2"
  },
  "widgets": {
   "application/vnd.jupyter.widget-state+json": {
    "state": {},
    "version_major": 2,
    "version_minor": 0
   }
  }
 },
 "nbformat": 4,
 "nbformat_minor": 5
}
