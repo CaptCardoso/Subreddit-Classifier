{
 "cells": [
  {
   "cell_type": "markdown",
   "id": "60026db1-f8d8-4b3c-a64f-d11354dc89d4",
   "metadata": {},
   "source": [
    "\n",
    "<img src=\"../images/starwarsstartrek.png\" style=\"float: center; margin: 0px; height: 150px; width: 500px\"> \n",
    "\n",
    "## SUBREDDIT CLASSIFIER\n",
    "\n",
    "###### _Author: Afolabi Cardoso_\n",
    "\n",
    "---"
   ]
  },
  {
   "cell_type": "markdown",
   "id": "ecb9e2bb-5056-48da-a481-d701d85b1855",
   "metadata": {},
   "source": [
    "### EDA and Pre-processing"
   ]
  },
  {
   "cell_type": "markdown",
   "id": "7f743587-b30c-449e-9f88-b7fe7143bebe",
   "metadata": {
    "tags": []
   },
   "source": [
    "---\n",
    "#### Contents:\n",
    "[Overview](#Overview) | [Imports](#Imports) | [Data Cleaning Training Set](#Data-Cleaning-Training-Set) | [Data Cleaning Test Set](#Data-Cleaning-Test-Set) | [Exports](#Exports)\n"
   ]
  },
  {
   "cell_type": "markdown",
   "id": "3dc66e1a-2361-4cab-8b1b-e8e86cee9f7c",
   "metadata": {
    "tags": []
   },
   "source": [
    "---\n",
    "#### Overview\n",
    "\n"
   ]
  },
  {
   "cell_type": "markdown",
   "id": "69276c71-91c8-409a-8829-9ddd34c463e8",
   "metadata": {},
   "source": [
    "---\n",
    "#### Imports"
   ]
  },
  {
   "cell_type": "code",
   "execution_count": 121,
   "id": "b6363b61-7420-4af3-a879-b3c966b12b47",
   "metadata": {},
   "outputs": [],
   "source": [
    "import pandas as pd\n",
    "import numpy as np\n",
    "import seaborn as sns\n",
    "import matplotlib.pyplot as plt\n",
    "\n",
    "from sklearn.linear_model import LogisticRegression\n",
    "from sklearn.feature_extraction.text import CountVectorizer, TfidfVectorizer\n",
    "from sklearn.pipeline import Pipeline\n",
    "from sklearn.model_selection import train_test_split, GridSearchCV\n",
    "from sklearn.metrics import plot_confusion_matrix\n",
    "\n",
    "from nltk.tokenize import sent_tokenize, word_tokenize, RegexpTokenizer\n",
    "from nltk.stem import WordNetLemmatizer\n",
    "from nltk.stem.porter import PorterStemmer\n",
    "from nltk.corpus import stopwords\n",
    "from nltk.sentiment.vader import SentimentIntensityAnalyzer\n",
    "import re"
   ]
  },
  {
   "cell_type": "code",
   "execution_count": 122,
   "id": "c0ac93df-d386-47e3-8b14-e494f5ba732f",
   "metadata": {},
   "outputs": [],
   "source": [
    "df = pd.read_csv('../data/clean.csv')\n",
    "df = df[['title','selftext','created_utc','subreddit']]"
   ]
  },
  {
   "cell_type": "code",
   "execution_count": 123,
   "id": "2864e7c9-878c-4bde-ad2f-805e00afa5f2",
   "metadata": {},
   "outputs": [
    {
     "data": {
      "text/html": [
       "<div>\n",
       "<style scoped>\n",
       "    .dataframe tbody tr th:only-of-type {\n",
       "        vertical-align: middle;\n",
       "    }\n",
       "\n",
       "    .dataframe tbody tr th {\n",
       "        vertical-align: top;\n",
       "    }\n",
       "\n",
       "    .dataframe thead th {\n",
       "        text-align: right;\n",
       "    }\n",
       "</style>\n",
       "<table border=\"1\" class=\"dataframe\">\n",
       "  <thead>\n",
       "    <tr style=\"text-align: right;\">\n",
       "      <th></th>\n",
       "      <th>title</th>\n",
       "      <th>selftext</th>\n",
       "      <th>created_utc</th>\n",
       "      <th>subreddit</th>\n",
       "    </tr>\n",
       "  </thead>\n",
       "  <tbody>\n",
       "    <tr>\n",
       "      <th>0</th>\n",
       "      <td>Star wars game</td>\n",
       "      <td></td>\n",
       "      <td>1646329318</td>\n",
       "      <td>starwars</td>\n",
       "    </tr>\n",
       "    <tr>\n",
       "      <th>1</th>\n",
       "      <td>If a Star Wars game about the famous wars in c...</td>\n",
       "      <td></td>\n",
       "      <td>1646329234</td>\n",
       "      <td>starwars</td>\n",
       "    </tr>\n",
       "    <tr>\n",
       "      <th>2</th>\n",
       "      <td>What makes a Star Wars fan...a FAN?</td>\n",
       "      <td></td>\n",
       "      <td>1646329180</td>\n",
       "      <td>starwars</td>\n",
       "    </tr>\n",
       "    <tr>\n",
       "      <th>3</th>\n",
       "      <td>What makes a Star Wars fan?</td>\n",
       "      <td></td>\n",
       "      <td>1646328985</td>\n",
       "      <td>starwars</td>\n",
       "    </tr>\n",
       "    <tr>\n",
       "      <th>4</th>\n",
       "      <td>Random Clone Wars Thoughts</td>\n",
       "      <td>The series makes me appreciate Anakin so much ...</td>\n",
       "      <td>1646328915</td>\n",
       "      <td>starwars</td>\n",
       "    </tr>\n",
       "  </tbody>\n",
       "</table>\n",
       "</div>"
      ],
      "text/plain": [
       "                                               title  \\\n",
       "0                                     Star wars game   \n",
       "1  If a Star Wars game about the famous wars in c...   \n",
       "2                What makes a Star Wars fan...a FAN?   \n",
       "3                        What makes a Star Wars fan?   \n",
       "4                         Random Clone Wars Thoughts   \n",
       "\n",
       "                                            selftext  created_utc subreddit  \n",
       "0                                                      1646329318  starwars  \n",
       "1                                                      1646329234  starwars  \n",
       "2                                                      1646329180  starwars  \n",
       "3                                                      1646328985  starwars  \n",
       "4  The series makes me appreciate Anakin so much ...   1646328915  starwars  "
      ]
     },
     "execution_count": 123,
     "metadata": {},
     "output_type": "execute_result"
    }
   ],
   "source": [
    "df.head()"
   ]
  },
  {
   "cell_type": "markdown",
   "id": "e652df7f-c74e-4a97-8830-f298d5785d27",
   "metadata": {},
   "source": [
    "## EDA"
   ]
  },
  {
   "cell_type": "markdown",
   "id": "157257de-851b-4a91-be26-5b6643f74236",
   "metadata": {},
   "source": [
    "We will start by removing punctuations. I will use regex and pandas str.replace method"
   ]
  },
  {
   "cell_type": "code",
   "execution_count": 124,
   "id": "9b22c60e-e5cc-4a1d-b3f9-01fc48ed2c26",
   "metadata": {},
   "outputs": [
    {
     "name": "stderr",
     "output_type": "stream",
     "text": [
      "/var/folders/db/yz8g3qx147g7dfn7_8w2pxl80000gn/T/ipykernel_21163/2705432854.py:1: FutureWarning: The default value of regex will change from True to False in a future version.\n",
      "  df['title'] = df['title'].str.replace('[^\\w\\s]',' ')\n"
     ]
    }
   ],
   "source": [
    "df['title'] = df['title'].str.replace('[^\\w\\s]',' ')"
   ]
  },
  {
   "cell_type": "markdown",
   "id": "a2777c94-58b9-4182-87bb-263da8b0e452",
   "metadata": {},
   "source": [
    "#### Top occuring words"
   ]
  },
  {
   "cell_type": "markdown",
   "id": "5d32554d-3533-4e19-82a6-1b5d307c77f1",
   "metadata": {},
   "source": [
    "Let's start by looking at the top occuring words in the tittle and selftext column.\n",
    "To do this, I will CountVectorize.\n",
    "\n",
    "I will use a CountVectorizer with stop_words as english and ngram_range of 1,1"
   ]
  },
  {
   "cell_type": "code",
   "execution_count": 125,
   "id": "399cc9d8-b8c0-4257-8f19-0db3b125070e",
   "metadata": {},
   "outputs": [],
   "source": [
    "cvec = CountVectorizer(stop_words='english', ngram_range = (1,1))"
   ]
  },
  {
   "cell_type": "code",
   "execution_count": 126,
   "id": "d6bd923b-454f-46fd-84e6-d2c39af9ee02",
   "metadata": {},
   "outputs": [
    {
     "data": {
      "text/plain": [
       "CountVectorizer(stop_words='english')"
      ]
     },
     "execution_count": 126,
     "metadata": {},
     "output_type": "execute_result"
    }
   ],
   "source": [
    "cvec.fit(df['title'])"
   ]
  },
  {
   "cell_type": "code",
   "execution_count": 127,
   "id": "9e180b7f-aa7c-40e7-a545-e2184527498d",
   "metadata": {},
   "outputs": [],
   "source": [
    "X = cvec.transform(df['title'])"
   ]
  },
  {
   "cell_type": "code",
   "execution_count": 128,
   "id": "6a659ef7-938f-4ce9-a197-1d50da566f4a",
   "metadata": {},
   "outputs": [
    {
     "data": {
      "text/plain": [
       "(2000, 3986)"
      ]
     },
     "execution_count": 128,
     "metadata": {},
     "output_type": "execute_result"
    }
   ],
   "source": [
    "X.shape"
   ]
  },
  {
   "cell_type": "code",
   "execution_count": 129,
   "id": "3c23a49c-f253-4d83-9b94-a872825e2230",
   "metadata": {},
   "outputs": [],
   "source": [
    "cvec_df = pd.DataFrame(X.todense(), columns=cvec.get_feature_names_out())"
   ]
  },
  {
   "cell_type": "code",
   "execution_count": 130,
   "id": "32bb3181-1650-40f2-bcbd-c0e3fa28feeb",
   "metadata": {},
   "outputs": [
    {
     "data": {
      "text/html": [
       "<div>\n",
       "<style scoped>\n",
       "    .dataframe tbody tr th:only-of-type {\n",
       "        vertical-align: middle;\n",
       "    }\n",
       "\n",
       "    .dataframe tbody tr th {\n",
       "        vertical-align: top;\n",
       "    }\n",
       "\n",
       "    .dataframe thead th {\n",
       "        text-align: right;\n",
       "    }\n",
       "</style>\n",
       "<table border=\"1\" class=\"dataframe\">\n",
       "  <thead>\n",
       "    <tr style=\"text-align: right;\">\n",
       "      <th></th>\n",
       "      <th>000</th>\n",
       "      <th>001</th>\n",
       "      <th>002</th>\n",
       "      <th>01</th>\n",
       "      <th>04x02</th>\n",
       "      <th>061</th>\n",
       "      <th>10</th>\n",
       "      <th>100</th>\n",
       "      <th>1000</th>\n",
       "      <th>102</th>\n",
       "      <th>...</th>\n",
       "      <th>zero</th>\n",
       "      <th>ziegfeld</th>\n",
       "      <th>zimmer</th>\n",
       "      <th>zine</th>\n",
       "      <th>ziro</th>\n",
       "      <th>zoe</th>\n",
       "      <th>zoomable</th>\n",
       "      <th>zoomers</th>\n",
       "      <th>zora</th>\n",
       "      <th>имчисм</th>\n",
       "    </tr>\n",
       "  </thead>\n",
       "  <tbody>\n",
       "    <tr>\n",
       "      <th>0</th>\n",
       "      <td>0</td>\n",
       "      <td>0</td>\n",
       "      <td>0</td>\n",
       "      <td>0</td>\n",
       "      <td>0</td>\n",
       "      <td>0</td>\n",
       "      <td>0</td>\n",
       "      <td>0</td>\n",
       "      <td>0</td>\n",
       "      <td>0</td>\n",
       "      <td>...</td>\n",
       "      <td>0</td>\n",
       "      <td>0</td>\n",
       "      <td>0</td>\n",
       "      <td>0</td>\n",
       "      <td>0</td>\n",
       "      <td>0</td>\n",
       "      <td>0</td>\n",
       "      <td>0</td>\n",
       "      <td>0</td>\n",
       "      <td>0</td>\n",
       "    </tr>\n",
       "    <tr>\n",
       "      <th>1</th>\n",
       "      <td>0</td>\n",
       "      <td>0</td>\n",
       "      <td>0</td>\n",
       "      <td>0</td>\n",
       "      <td>0</td>\n",
       "      <td>0</td>\n",
       "      <td>0</td>\n",
       "      <td>0</td>\n",
       "      <td>0</td>\n",
       "      <td>0</td>\n",
       "      <td>...</td>\n",
       "      <td>0</td>\n",
       "      <td>0</td>\n",
       "      <td>0</td>\n",
       "      <td>0</td>\n",
       "      <td>0</td>\n",
       "      <td>0</td>\n",
       "      <td>0</td>\n",
       "      <td>0</td>\n",
       "      <td>0</td>\n",
       "      <td>0</td>\n",
       "    </tr>\n",
       "    <tr>\n",
       "      <th>2</th>\n",
       "      <td>0</td>\n",
       "      <td>0</td>\n",
       "      <td>0</td>\n",
       "      <td>0</td>\n",
       "      <td>0</td>\n",
       "      <td>0</td>\n",
       "      <td>0</td>\n",
       "      <td>0</td>\n",
       "      <td>0</td>\n",
       "      <td>0</td>\n",
       "      <td>...</td>\n",
       "      <td>0</td>\n",
       "      <td>0</td>\n",
       "      <td>0</td>\n",
       "      <td>0</td>\n",
       "      <td>0</td>\n",
       "      <td>0</td>\n",
       "      <td>0</td>\n",
       "      <td>0</td>\n",
       "      <td>0</td>\n",
       "      <td>0</td>\n",
       "    </tr>\n",
       "    <tr>\n",
       "      <th>3</th>\n",
       "      <td>0</td>\n",
       "      <td>0</td>\n",
       "      <td>0</td>\n",
       "      <td>0</td>\n",
       "      <td>0</td>\n",
       "      <td>0</td>\n",
       "      <td>0</td>\n",
       "      <td>0</td>\n",
       "      <td>0</td>\n",
       "      <td>0</td>\n",
       "      <td>...</td>\n",
       "      <td>0</td>\n",
       "      <td>0</td>\n",
       "      <td>0</td>\n",
       "      <td>0</td>\n",
       "      <td>0</td>\n",
       "      <td>0</td>\n",
       "      <td>0</td>\n",
       "      <td>0</td>\n",
       "      <td>0</td>\n",
       "      <td>0</td>\n",
       "    </tr>\n",
       "    <tr>\n",
       "      <th>4</th>\n",
       "      <td>0</td>\n",
       "      <td>0</td>\n",
       "      <td>0</td>\n",
       "      <td>0</td>\n",
       "      <td>0</td>\n",
       "      <td>0</td>\n",
       "      <td>0</td>\n",
       "      <td>0</td>\n",
       "      <td>0</td>\n",
       "      <td>0</td>\n",
       "      <td>...</td>\n",
       "      <td>0</td>\n",
       "      <td>0</td>\n",
       "      <td>0</td>\n",
       "      <td>0</td>\n",
       "      <td>0</td>\n",
       "      <td>0</td>\n",
       "      <td>0</td>\n",
       "      <td>0</td>\n",
       "      <td>0</td>\n",
       "      <td>0</td>\n",
       "    </tr>\n",
       "  </tbody>\n",
       "</table>\n",
       "<p>5 rows × 3986 columns</p>\n",
       "</div>"
      ],
      "text/plain": [
       "   000  001  002  01  04x02  061  10  100  1000  102  ...  zero  ziegfeld  \\\n",
       "0    0    0    0   0      0    0   0    0     0    0  ...     0         0   \n",
       "1    0    0    0   0      0    0   0    0     0    0  ...     0         0   \n",
       "2    0    0    0   0      0    0   0    0     0    0  ...     0         0   \n",
       "3    0    0    0   0      0    0   0    0     0    0  ...     0         0   \n",
       "4    0    0    0   0      0    0   0    0     0    0  ...     0         0   \n",
       "\n",
       "   zimmer  zine  ziro  zoe  zoomable  zoomers  zora  имчисм  \n",
       "0       0     0     0    0         0        0     0       0  \n",
       "1       0     0     0    0         0        0     0       0  \n",
       "2       0     0     0    0         0        0     0       0  \n",
       "3       0     0     0    0         0        0     0       0  \n",
       "4       0     0     0    0         0        0     0       0  \n",
       "\n",
       "[5 rows x 3986 columns]"
      ]
     },
     "execution_count": 130,
     "metadata": {},
     "output_type": "execute_result"
    }
   ],
   "source": [
    "cvec_df.head()"
   ]
  },
  {
   "cell_type": "markdown",
   "id": "9787a5d5-610b-42de-8702-8841dd9f6a98",
   "metadata": {},
   "source": [
    "#### Top 10 occuring words\n",
    "What are the 10 most common words in the corpus "
   ]
  },
  {
   "cell_type": "code",
   "execution_count": 131,
   "id": "638c4abf-007f-411f-8028-c0a1d789a5f7",
   "metadata": {},
   "outputs": [],
   "source": [
    "top_ten_starwars = cvec_df[:999].sum().sort_values(ascending=False)[:15] #top ten in starwars subreddit\n",
    "top_ten_startrek = cvec_df[1000:2000].sum().sort_values(ascending=False)[:15]  #top ten in startrek subreddit\n",
    "top_ten_both = cvec_df[1000:2000].sum().sort_values(ascending=False)[:15]  #top ten in both"
   ]
  },
  {
   "cell_type": "markdown",
   "id": "87f5e8c1-c088-4cdc-bfbb-36f184465de6",
   "metadata": {},
   "source": [
    "Bar graph showing top 10 words"
   ]
  },
  {
   "cell_type": "code",
   "execution_count": 132,
   "id": "84b92f3c-3886-48f2-a0a9-3ef48b4bd0ce",
   "metadata": {},
   "outputs": [
    {
     "data": {
      "image/png": "[encoded data removed]",
      "text/plain": [
       "<Figure size 1440x360 with 3 Axes>"
      ]
     },
     "metadata": {
      "needs_background": "light"
     },
     "output_type": "display_data"
    }
   ],
   "source": [
    "#create two axis \n",
    "fig ,ax = plt.subplots(1,3,figsize = (20,5))\n",
    "\n",
    "#set color for largest bar\n",
    "colr = ['grey' if (x<max(top_ten_both)) else 'blue' for x in top_ten_both]\n",
    "\n",
    "#starwars bar chart\n",
    "sns.barplot(ax = ax[0], x = top_ten_both, y = top_ten_both.index ,palette = colr)\n",
    "\n",
    "#starwars bar chart\n",
    "sns.barplot(ax = ax[1], x = top_ten_starwars, y = top_ten_starwars.index ,palette = colr)\n",
    "\n",
    "#starwars bar chart\n",
    "sns.barplot(ax = ax[2], x = top_ten_startrek, y = top_ten_startrek.index ,palette = colr)\n",
    "\n",
    "#set labels\n",
    "ax[0].set(xlabel = 'word count'), ax[1].set(xlabel = 'word count'), ax[2].set(xlabel = 'word count')\n",
    "ax[0].set_title('Top ten words in both subreddits')\n",
    "ax[1].set_title('Top ten words in starwars subreddit')\n",
    "ax[2].set_title('Top ten words in startrek subreddit');"
   ]
  },
  {
   "cell_type": "markdown",
   "id": "9ba764fd-61cd-4230-b92c-bad58f1a73d3",
   "metadata": {},
   "source": [
    "#### Remove common words"
   ]
  },
  {
   "cell_type": "markdown",
   "id": "db13cb70-fba4-492e-8864-149e2acb2371",
   "metadata": {},
   "source": [
    "The chart above shows that the word star occures very frequently in both subreddits. I will remove it to prevent it from negatively affecting the model "
   ]
  },
  {
   "cell_type": "code",
   "execution_count": 133,
   "id": "c37a3700-8a40-463d-a980-7da34620a309",
   "metadata": {},
   "outputs": [
    {
     "data": {
      "text/plain": [
       "0                                          Star wars game\n",
       "1       If a Star Wars game about the famous wars in c...\n",
       "2                     What makes a Star Wars fan   a FAN \n",
       "3                             What makes a Star Wars fan \n",
       "4                              Random Clone Wars Thoughts\n",
       "                              ...                        \n",
       "1995      I have finally watched DS9 from start to finish\n",
       "1996                                           TOS script\n",
       "1997    How did you get into Trek  What series was you...\n",
       "1998    If you ve never seen this  this is the prototy...\n",
       "1999    The Ready Room   All In   Sonequa Martin Green...\n",
       "Name: title, Length: 2000, dtype: object"
      ]
     },
     "execution_count": 133,
     "metadata": {},
     "output_type": "execute_result"
    }
   ],
   "source": [
    "df['title']"
   ]
  },
  {
   "cell_type": "code",
   "execution_count": 134,
   "id": "4221ba7d-3569-456f-8d93-7328548e4e1d",
   "metadata": {},
   "outputs": [],
   "source": [
    "def  remove_words(str):\n",
    "    words = ['star']\n",
    "    result = []\n",
    "    for word in str.split(' '):\n",
    "        if word.lower() not in words:\n",
    "            result.append(word)\n",
    "    return ' '.join(result)\n",
    "\n",
    "df['title'] = df['title'].map(remove_words)"
   ]
  },
  {
   "cell_type": "code",
   "execution_count": 135,
   "id": "e7e932a8-98b9-4adc-af11-abe4e29b7847",
   "metadata": {},
   "outputs": [
    {
     "data": {
      "text/plain": [
       "0                                               wars game\n",
       "1          If a Wars game about the famous wars in comics\n",
       "2                          What makes a Wars fan   a FAN \n",
       "3                                  What makes a Wars fan \n",
       "4                              Random Clone Wars Thoughts\n",
       "                              ...                        \n",
       "1995      I have finally watched DS9 from start to finish\n",
       "1996                                           TOS script\n",
       "1997    How did you get into Trek  What series was you...\n",
       "1998    If you ve never seen this  this is the prototy...\n",
       "1999    The Ready Room   All In   Sonequa Martin Green...\n",
       "Name: title, Length: 2000, dtype: object"
      ]
     },
     "execution_count": 135,
     "metadata": {},
     "output_type": "execute_result"
    }
   ],
   "source": [
    "df['title']"
   ]
  },
  {
   "cell_type": "markdown",
   "id": "94444d53-53a3-445d-a967-f3edaf5ee201",
   "metadata": {},
   "source": [
    "#### Most popular characters"
   ]
  },
  {
   "cell_type": "markdown",
   "id": "85485331-e6ce-436d-834b-b3f294a86e73",
   "metadata": {},
   "source": [
    "I created a list of the top characters in both starwars and startrek. I will use that list to find the most talked about characters in the subreddits"
   ]
  },
  {
   "cell_type": "code",
   "execution_count": 136,
   "id": "8096cf71-18d4-45e4-ae84-f60c71933faa",
   "metadata": {},
   "outputs": [],
   "source": [
    "characters = [ 'vader','anakin','skywalker', 'ahsoka', 'solo','leia','yoda','obi','kenobi',\n",
    "              'palpatime','rey','chewbecca','r2d2','kylo','boba','maul','mace','dooku','padme',\n",
    "              'grogu','jabba','finn','grievous','snoke','mandalorian','gerrera','rex','ventress','bb8','bane',\n",
    "              'spock','kirk','picard','worf','nyota','mccoy','seven','scotty','sisko','data','hikaru','riker','dax',\n",
    "              'troi','kathryn','miles','kira','forge','crusher','odo','tuvok','q',\n",
    "              'guinan','burnham','saru','tilly','voq','ash','stamets','lorca','culber','pike','booker','adira','reno'\n",
    "             ]\n"
   ]
  },
  {
   "cell_type": "code",
   "execution_count": 137,
   "id": "605b132c-a66f-47c5-a49c-c2186202e915",
   "metadata": {},
   "outputs": [],
   "source": [
    "def character_check(string):\n",
    "    lst = string.lower().split(\" \")\n",
    "    for char in lst:\n",
    "        if char in characters:\n",
    "            return char\n"
   ]
  },
  {
   "cell_type": "code",
   "execution_count": 138,
   "id": "e2acc115-e744-47fb-a29b-4d61e5a1c321",
   "metadata": {},
   "outputs": [],
   "source": [
    "df_starwars = df[df['subreddit'] == 'starwars']\n",
    "df_startrek = df[df['subreddit'] == 'startrek']"
   ]
  },
  {
   "cell_type": "code",
   "execution_count": 139,
   "id": "12d33e23-bece-4e06-9bd1-362a37df793c",
   "metadata": {},
   "outputs": [],
   "source": [
    "# Top characters in both subreddits\n",
    "top_char_sw = df_starwars['title'].map(character_check).value_counts()\n",
    "top_char_st = df_startrek['title'].map(character_check).value_counts()"
   ]
  },
  {
   "cell_type": "code",
   "execution_count": 140,
   "id": "1194aaec-9422-4d7b-be9f-d9c387710c53",
   "metadata": {},
   "outputs": [
    {
     "data": {
      "image/png": "[encoded data removed]",
      "text/plain": [
       "<Figure size 1440x360 with 2 Axes>"
      ]
     },
     "metadata": {
      "needs_background": "light"
     },
     "output_type": "display_data"
    }
   ],
   "source": [
    "\n",
    "#create two axis \n",
    "fig ,ax = plt.subplots(1,2,figsize = (20,5))\n",
    "\n",
    "#set color for largest bar\n",
    "colr = ['grey' if (x<max(top_char_st)) else 'blue' for x in top_char_st]\n",
    "colr = ['grey' if (x<max(top_char_sw)) else 'blue' for x in top_char_sw]\n",
    "\n",
    "\n",
    "#starwars bar chart\n",
    "sns.barplot(ax = ax[0], x = top_char_sw[:11], y = top_char_sw[:11].index ,palette = colr)\n",
    "\n",
    "#starwars bar chart\n",
    "sns.barplot(ax = ax[1], x = top_char_st, y = top_char_st.index ,palette = colr)\n",
    "\n",
    "#set labels\n",
    "ax[0].set(xlabel = 'word count')\n",
    "ax[1].set(xlabel = 'word count')\n",
    "ax[0].set_title('')\n",
    "ax[1].set_title('');"
   ]
  },
  {
   "cell_type": "markdown",
   "id": "2abbdee5-ba8b-42fb-88bb-47211e16d644",
   "metadata": {},
   "source": [
    "## Sentiment analyser\n"
   ]
  },
  {
   "cell_type": "markdown",
   "id": "4e55a3a8-525d-40e8-8689-497514200e0c",
   "metadata": {},
   "source": [
    "Sentiment analysis is a method by which we try to determine the polarity of a statment. In this case, we will use sentiment analysis to compare the two subreddits. I am curious to see which group of fans have more positive opinions.\n",
    "\n",
    "From the VADAR NLTK library, I will use the SentimentIntensityAnalyzer() method. This method takes in a string and returns a dictionary containing, a positive, neutral, negative and compound value. We will be using the compund score to perform our analysis."
   ]
  },
  {
   "cell_type": "code",
   "execution_count": 141,
   "id": "18a91a45-ba43-4dc3-ab70-ea2ee8efb3a6",
   "metadata": {},
   "outputs": [],
   "source": [
    "#Instantiate the analyser\n",
    "sia = SentimentIntensityAnalyzer()"
   ]
  },
  {
   "cell_type": "code",
   "execution_count": 142,
   "id": "f5178d01-be30-4c46-aa32-4b13c9606130",
   "metadata": {},
   "outputs": [],
   "source": [
    "#create a new column for the mood\n",
    "df['mood'] = df['title'].map(lambda x: sia.polarity_scores(x)['compound'])"
   ]
  },
  {
   "cell_type": "markdown",
   "id": "11b0c45b-3cdc-41ed-b0a4-7f945c53b299",
   "metadata": {},
   "source": [
    "Let's plot the distribution of the mood for both "
   ]
  },
  {
   "cell_type": "code",
   "execution_count": 143,
   "id": "ea46a287-9238-4612-9589-ce408667939e",
   "metadata": {},
   "outputs": [
    {
     "data": {
      "image/png": "[encoded data removed]",
      "text/plain": [
       "<Figure size 432x288 with 1 Axes>"
      ]
     },
     "metadata": {
      "needs_background": "light"
     },
     "output_type": "display_data"
    }
   ],
   "source": [
    "\n",
    "plt.hist(df['mood'], label='subreddit');"
   ]
  },
  {
   "cell_type": "markdown",
   "id": "53f644da-a409-4fa5-a188-d0d203c4dadf",
   "metadata": {
    "tags": []
   },
   "source": [
    "## Pre processing\n"
   ]
  },
  {
   "cell_type": "markdown",
   "id": "255cc641-d2cd-4c50-8c4e-cbfac5945664",
   "metadata": {},
   "source": [
    "I will binarize the target variable. I will set the value startrek to 0 and starwars to 1"
   ]
  },
  {
   "cell_type": "code",
   "execution_count": 144,
   "id": "c96e122b-5fc7-4029-9ed1-88caeee0311c",
   "metadata": {},
   "outputs": [],
   "source": [
    "df['subreddit'] = df['subreddit'].map({'startrek':0,\n",
    "                                      'starwars':1} )"
   ]
  },
  {
   "cell_type": "code",
   "execution_count": 145,
   "id": "c4340ad2-e047-4a8f-9d47-176fbf55197b",
   "metadata": {},
   "outputs": [
    {
     "data": {
      "text/plain": [
       "0"
      ]
     },
     "execution_count": 145,
     "metadata": {},
     "output_type": "execute_result"
    }
   ],
   "source": [
    "df['title'].isna().sum()"
   ]
  },
  {
   "cell_type": "markdown",
   "id": "dc77db07-00d6-4e31-90ec-00420f9f98f4",
   "metadata": {
    "tags": []
   },
   "source": [
    "## Export"
   ]
  },
  {
   "cell_type": "markdown",
   "id": "6f147bf7-780c-4b4a-89e9-afbb76db9305",
   "metadata": {},
   "source": [
    "Export the cleaned dataframe as clean.csv"
   ]
  },
  {
   "cell_type": "code",
   "execution_count": 146,
   "id": "65b34c71-b488-4051-97bd-1bf39f7063c0",
   "metadata": {},
   "outputs": [],
   "source": [
    "df.to_csv('../data/preprocessed.csv', index=False)"
   ]
  },
  {
   "cell_type": "code",
   "execution_count": null,
   "id": "73b1be15-ad04-4a2e-923a-364082ec246c",
   "metadata": {},
   "outputs": [],
   "source": []
  }
 ],
 "metadata": {
  "kernelspec": {
   "display_name": "Python 3 (ipykernel)",
   "language": "python",
   "name": "python3"
  },
  "language_info": {
   "codemirror_mode": {
    "name": "ipython",
    "version": 3
   },
   "file_extension": ".py",
   "mimetype": "text/x-python",
   "name": "python",
   "nbconvert_exporter": "python",
   "pygments_lexer": "ipython3",
   "version": "3.10.2"
  },
  "widgets": {
   "application/vnd.jupyter.widget-state+json": {
    "state": {},
    "version_major": 2,
    "version_minor": 0
   }
  }
 },
 "nbformat": 4,
 "nbformat_minor": 5
}
