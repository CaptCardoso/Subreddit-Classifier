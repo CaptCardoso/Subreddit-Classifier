{
 "cells": [
  {
   "cell_type": "markdown",
   "id": "181d7bd4-b870-4ec9-9005-22116b437dd7",
   "metadata": {},
   "source": [
    "<img src=\"../images/starwarsstartrek.png.crdownload\" style=\"float: center; margin: 0px; height: 250px; width: 100%\">\n"
   ]
  },
  {
   "cell_type": "markdown",
   "id": "f0751b56-f962-4d17-8086-7ebaf2aca4ee",
   "metadata": {},
   "source": [
    "\n",
    "# Project 3: Web APIs & NLP\n",
    "\n",
    "#### _Author: Afolabi Cardoso_\n",
    "\n",
    "---"
   ]
  },
  {
   "cell_type": "markdown",
   "id": "4ab41398-4ac3-43d3-839f-4379a001eb73",
   "metadata": {},
   "source": [
    "#### Overview\n",
    "This is a natural language processing project. The aim of the project is to build and compare two classification models; logistic regression and random forest. \n",
    "\n",
    "The models are developed to accurately predict which subreddit a post belongs to.\n",
    "\n",
    "For this project, I am using the [Star Trek](https://www.reddit.com/r/startrek/) and [Star Wars](https://www.reddit.com/r/StarWars/) subreddit.\n",
    "\n",
    "I used the  [Pushshift's](https://github.com/pushshift/api) API to collect 1000 posts each from both subreddits.\n"
   ]
  },
  {
   "cell_type": "markdown",
   "id": "c0fdb220-fcbc-4c3a-a427-2f7fbd98d110",
   "metadata": {},
   "source": [
    "---\n",
    "#### Contents:\n",
    "[Overview](#Overview) | [Imports](#Imports) | [Data Cleaning Training Set](#Data-Cleaning-Training-Set) | [Data Cleaning Test Set](#Data-Cleaning-Test-Set) | [Exports](#Exports)\n"
   ]
  },
  {
   "cell_type": "markdown",
   "id": "eefe9358-d1c5-47a1-9196-0d6ac269c0af",
   "metadata": {},
   "source": [
    "#### Imports"
   ]
  },
  {
   "cell_type": "code",
   "execution_count": 18,
   "id": "2d9ba56e-e225-4d58-9091-c3baf0bff368",
   "metadata": {},
   "outputs": [],
   "source": [
    "import pandas as pd\n",
    "import numpy as np\n",
    "import requests\n",
    "import time"
   ]
  },
  {
   "cell_type": "markdown",
   "id": "04e2bfb6-8b30-4cfd-93dc-b649d52fb108",
   "metadata": {},
   "source": [
    "#### Data Collecting`"
   ]
  },
  {
   "cell_type": "markdown",
   "id": "0efc4468-96e6-4491-892b-09c2febe8561",
   "metadata": {},
   "source": [
    "I am going to create a **get_post** function. The function accepts two parameters. The first parameter is a list containing the names of the subreddits and the second parameter is the number of post I want to collect.\n",
    "\n",
    "The functions returns a list of dataframes containing all the requested posts."
   ]
  },
  {
   "cell_type": "code",
   "execution_count": 19,
   "id": "93f98d89-4d64-4af9-bb6f-980ed0726714",
   "metadata": {},
   "outputs": [],
   "source": [
    "#function definition get_post\n",
    "\n",
    "def get_post(lst, no_post):\n",
    "    url = 'https://api.pushshift.io/reddit/search/submission' #pushshift reddit API link   \n",
    "    posts = []\n",
    "    \n",
    "    for sub in lst:\n",
    "        post_count = no_post   #assign the number of post passed to post_count\n",
    "        before  = int(time.time())  #get the current time and assigns it to before\n",
    "        \n",
    "        while post_count > 0:\n",
    "                \n",
    "            if post_count < 100:   \n",
    "                size = post_count\n",
    "            else:\n",
    "                size = 100\n",
    "            \n",
    "            params = {                      #parameters for the get method\n",
    "                'subreddit': sub,\n",
    "                 'size' : size,\n",
    "                 'before': before\n",
    "             }\n",
    "\n",
    "            res = requests.get(url, params)\n",
    "            json_data = res.json()\n",
    "            df_data = pd.DataFrame(json_data['data'])\n",
    "            \n",
    "            posts.append(df_data)\n",
    "            \n",
    "            post_count -= 100 \n",
    "            before = df_data['created_utc'].iloc[-1]\n",
    "            \n",
    "        time.sleep(3)  #create a 3 seconds wait between pulls\n",
    "    return posts"
   ]
  },
  {
   "cell_type": "markdown",
   "id": "d304dba7-b36e-442d-9764-f736c6727a30",
   "metadata": {},
   "source": [
    "I am going to call the **get_post** and pass in the subreddits and number of posts. I will collect 1010 post, the extra 10 post is for if I need to replace posts with errors."
   ]
  },
  {
   "cell_type": "code",
   "execution_count": 27,
   "id": "2ded3e0c-1894-4033-af5d-5c892876fc51",
   "metadata": {},
   "outputs": [],
   "source": [
    "subreddits = ['StarWars', 'startrek']\n",
    "#df_list = get_post(subreddits, 1010)"
   ]
  },
  {
   "cell_type": "markdown",
   "id": "eb6178f9-f8fd-4577-9a11-9e09f4ba8a0b",
   "metadata": {},
   "source": [
    "Concat the list of dataframes"
   ]
  },
  {
   "cell_type": "code",
   "execution_count": 28,
   "id": "b975e53d-ba43-4485-b909-6d6a5a0bc3c5",
   "metadata": {},
   "outputs": [],
   "source": [
    "#df = pd.concat(df_list, ignore_index=True)"
   ]
  },
  {
   "cell_type": "code",
   "execution_count": 29,
   "id": "0f0ad033-bf33-4782-96e3-6cc4ccd22708",
   "metadata": {},
   "outputs": [
    {
     "data": {
      "text/html": [
       "<div>\n",
       "<style scoped>\n",
       "    .dataframe tbody tr th:only-of-type {\n",
       "        vertical-align: middle;\n",
       "    }\n",
       "\n",
       "    .dataframe tbody tr th {\n",
       "        vertical-align: top;\n",
       "    }\n",
       "\n",
       "    .dataframe thead th {\n",
       "        text-align: right;\n",
       "    }\n",
       "</style>\n",
       "<table border=\"1\" class=\"dataframe\">\n",
       "  <thead>\n",
       "    <tr style=\"text-align: right;\">\n",
       "      <th></th>\n",
       "      <th>title</th>\n",
       "      <th>selftext</th>\n",
       "      <th>created_utc</th>\n",
       "      <th>subreddit</th>\n",
       "    </tr>\n",
       "  </thead>\n",
       "  <tbody>\n",
       "    <tr>\n",
       "      <th>0</th>\n",
       "      <td>No wonder Ukraine has lasted so long.</td>\n",
       "      <td></td>\n",
       "      <td>1646191472</td>\n",
       "      <td>StarWars</td>\n",
       "    </tr>\n",
       "    <tr>\n",
       "      <th>1</th>\n",
       "      <td>SO EXCITED FOR IT!!</td>\n",
       "      <td></td>\n",
       "      <td>1646191396</td>\n",
       "      <td>StarWars</td>\n",
       "    </tr>\n",
       "    <tr>\n",
       "      <th>2</th>\n",
       "      <td>“Oh, I’m afraid the deflector shield will be q...</td>\n",
       "      <td></td>\n",
       "      <td>1646191081</td>\n",
       "      <td>StarWars</td>\n",
       "    </tr>\n",
       "    <tr>\n",
       "      <th>3</th>\n",
       "      <td>Darth Vade Vs. General Grevious</td>\n",
       "      <td></td>\n",
       "      <td>1646190952</td>\n",
       "      <td>StarWars</td>\n",
       "    </tr>\n",
       "    <tr>\n",
       "      <th>4</th>\n",
       "      <td>Satine was a terrible ruler</td>\n",
       "      <td>I know this sounds a bit harsh but let me get ...</td>\n",
       "      <td>1646190846</td>\n",
       "      <td>StarWars</td>\n",
       "    </tr>\n",
       "    <tr>\n",
       "      <th>...</th>\n",
       "      <td>...</td>\n",
       "      <td>...</td>\n",
       "      <td>...</td>\n",
       "      <td>...</td>\n",
       "    </tr>\n",
       "    <tr>\n",
       "      <th>2014</th>\n",
       "      <td>Calypso question.</td>\n",
       "      <td>I am assuming that this episode takes place 10...</td>\n",
       "      <td>1644265266</td>\n",
       "      <td>startrek</td>\n",
       "    </tr>\n",
       "    <tr>\n",
       "      <th>2015</th>\n",
       "      <td>I know what is behin the DMA</td>\n",
       "      <td>Another sad Kelpian.</td>\n",
       "      <td>1644264724</td>\n",
       "      <td>startrek</td>\n",
       "    </tr>\n",
       "    <tr>\n",
       "      <th>2016</th>\n",
       "      <td>DS9 Klingon language captions</td>\n",
       "      <td>I recently started a rewatch of DS9 and “Blood...</td>\n",
       "      <td>1644260603</td>\n",
       "      <td>startrek</td>\n",
       "    </tr>\n",
       "    <tr>\n",
       "      <th>2017</th>\n",
       "      <td>Star Trek Portraits as NFTs by Jeffery Newbury</td>\n",
       "      <td>[removed]</td>\n",
       "      <td>1644257811</td>\n",
       "      <td>startrek</td>\n",
       "    </tr>\n",
       "    <tr>\n",
       "      <th>2018</th>\n",
       "      <td>Memorable Quotes</td>\n",
       "      <td>Anybody know of any memorable Deanna Troi quot...</td>\n",
       "      <td>1644256937</td>\n",
       "      <td>startrek</td>\n",
       "    </tr>\n",
       "  </tbody>\n",
       "</table>\n",
       "<p>2019 rows × 4 columns</p>\n",
       "</div>"
      ],
      "text/plain": [
       "                                                  title  \\\n",
       "0                 No wonder Ukraine has lasted so long.   \n",
       "1                                   SO EXCITED FOR IT!!   \n",
       "2     “Oh, I’m afraid the deflector shield will be q...   \n",
       "3                       Darth Vade Vs. General Grevious   \n",
       "4                           Satine was a terrible ruler   \n",
       "...                                                 ...   \n",
       "2014                                  Calypso question.   \n",
       "2015                       I know what is behin the DMA   \n",
       "2016                      DS9 Klingon language captions   \n",
       "2017     Star Trek Portraits as NFTs by Jeffery Newbury   \n",
       "2018                                   Memorable Quotes   \n",
       "\n",
       "                                               selftext  created_utc subreddit  \n",
       "0                                                         1646191472  StarWars  \n",
       "1                                                         1646191396  StarWars  \n",
       "2                                                         1646191081  StarWars  \n",
       "3                                                         1646190952  StarWars  \n",
       "4     I know this sounds a bit harsh but let me get ...   1646190846  StarWars  \n",
       "...                                                 ...          ...       ...  \n",
       "2014  I am assuming that this episode takes place 10...   1644265266  startrek  \n",
       "2015                               Another sad Kelpian.   1644264724  startrek  \n",
       "2016  I recently started a rewatch of DS9 and “Blood...   1644260603  startrek  \n",
       "2017                                          [removed]   1644257811  startrek  \n",
       "2018  Anybody know of any memorable Deanna Troi quot...   1644256937  startrek  \n",
       "\n",
       "[2019 rows x 4 columns]"
      ]
     },
     "execution_count": 29,
     "metadata": {},
     "output_type": "execute_result"
    }
   ],
   "source": [
    "df[['title','selftext','created_utc','subreddit']]"
   ]
  },
  {
   "cell_type": "code",
   "execution_count": 32,
   "id": "3c579d8a-ef24-4b02-9380-56d954493396",
   "metadata": {},
   "outputs": [
    {
     "data": {
      "text/html": [
       "<div>\n",
       "<style scoped>\n",
       "    .dataframe tbody tr th:only-of-type {\n",
       "        vertical-align: middle;\n",
       "    }\n",
       "\n",
       "    .dataframe tbody tr th {\n",
       "        vertical-align: top;\n",
       "    }\n",
       "\n",
       "    .dataframe thead th {\n",
       "        text-align: right;\n",
       "    }\n",
       "</style>\n",
       "<table border=\"1\" class=\"dataframe\">\n",
       "  <thead>\n",
       "    <tr style=\"text-align: right;\">\n",
       "      <th></th>\n",
       "      <th>selftext</th>\n",
       "      <th>title</th>\n",
       "      <th>created_utc</th>\n",
       "    </tr>\n",
       "    <tr>\n",
       "      <th>subreddit</th>\n",
       "      <th></th>\n",
       "      <th></th>\n",
       "      <th></th>\n",
       "    </tr>\n",
       "  </thead>\n",
       "  <tbody>\n",
       "    <tr>\n",
       "      <th>StarWars</th>\n",
       "      <td>1008</td>\n",
       "      <td>1010</td>\n",
       "      <td>1010</td>\n",
       "    </tr>\n",
       "    <tr>\n",
       "      <th>startrek</th>\n",
       "      <td>1008</td>\n",
       "      <td>1009</td>\n",
       "      <td>1009</td>\n",
       "    </tr>\n",
       "  </tbody>\n",
       "</table>\n",
       "</div>"
      ],
      "text/plain": [
       "           selftext  title  created_utc\n",
       "subreddit                              \n",
       "StarWars       1008   1010         1010\n",
       "startrek       1008   1009         1009"
      ]
     },
     "execution_count": 32,
     "metadata": {},
     "output_type": "execute_result"
    }
   ],
   "source": [
    "df.groupby('subreddit').count() [['selftext','title','created_utc']]"
   ]
  },
  {
   "cell_type": "code",
   "execution_count": 38,
   "id": "5dbd819c-29e4-4b85-81e4-61389fb831c2",
   "metadata": {},
   "outputs": [],
   "source": [
    "df.to_csv('../data/raw.csv', index=False)"
   ]
  },
  {
   "cell_type": "code",
   "execution_count": null,
   "id": "3dd652c2-2600-4f97-bc38-85905b5b092e",
   "metadata": {},
   "outputs": [],
   "source": []
  }
 ],
 "metadata": {
  "kernelspec": {
   "display_name": "Python 3 (ipykernel)",
   "language": "python",
   "name": "python3"
  },
  "language_info": {
   "codemirror_mode": {
    "name": "ipython",
    "version": 3
   },
   "file_extension": ".py",
   "mimetype": "text/x-python",
   "name": "python",
   "nbconvert_exporter": "python",
   "pygments_lexer": "ipython3",
   "version": "3.10.2"
  },
  "widgets": {
   "application/vnd.jupyter.widget-state+json": {
    "state": {},
    "version_major": 2,
    "version_minor": 0
   }
  }
 },
 "nbformat": 4,
 "nbformat_minor": 5
}
