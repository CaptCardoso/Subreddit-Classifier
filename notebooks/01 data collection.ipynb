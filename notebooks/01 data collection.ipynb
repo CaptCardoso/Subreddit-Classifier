{
 "cells": [
  {
   "cell_type": "markdown",
   "id": "f0751b56-f962-4d17-8086-7ebaf2aca4ee",
   "metadata": {},
   "source": [
    "\n",
    "<img src=\"../images/starwarsstartrek.png\" style=\"float: center; margin: 0px; height: 150px; width: 500px\"> \n",
    "\n",
    "## SUBREDDIT CLASSIFIER\n",
    "\n",
    "###### _Author: Afolabi Cardoso_\n",
    "\n",
    "---"
   ]
  },
  {
   "cell_type": "markdown",
   "id": "96c2e0b6-1a55-451b-8d33-3d44d157f282",
   "metadata": {},
   "source": [
    "### DATA COLLECTION"
   ]
  },
  {
   "cell_type": "markdown",
   "id": "c0fdb220-fcbc-4c3a-a427-2f7fbd98d110",
   "metadata": {
    "jp-MarkdownHeadingCollapsed": true,
    "tags": []
   },
   "source": [
    "---\n",
    "#### Contents:\n",
    "[Overview](#Overview) | [Imports](#Imports) | [Data Cleaning Training Set](#Data-Cleaning-Training-Set) | [Data Cleaning Test Set](#Data-Cleaning-Test-Set) | [Exports](#Exports)\n"
   ]
  },
  {
   "cell_type": "markdown",
   "id": "4ab41398-4ac3-43d3-839f-4379a001eb73",
   "metadata": {
    "jp-MarkdownHeadingCollapsed": true,
    "tags": []
   },
   "source": [
    "---\n",
    "#### Overview\n",
    "\n"
   ]
  },
  {
   "cell_type": "markdown",
   "id": "eefe9358-d1c5-47a1-9196-0d6ac269c0af",
   "metadata": {},
   "source": [
    "#### Imports"
   ]
  },
  {
   "cell_type": "code",
   "execution_count": 8,
   "id": "2d9ba56e-e225-4d58-9091-c3baf0bff368",
   "metadata": {},
   "outputs": [],
   "source": [
    "import pandas as pd\n",
    "import numpy as np\n",
    "import requests\n",
    "import time"
   ]
  },
  {
   "cell_type": "markdown",
   "id": "04e2bfb6-8b30-4cfd-93dc-b649d52fb108",
   "metadata": {},
   "source": [
    "#### Data Collecting`"
   ]
  },
  {
   "cell_type": "markdown",
   "id": "0efc4468-96e6-4491-892b-09c2febe8561",
   "metadata": {},
   "source": [
    "I am going to create a **get_post** function. The function accepts two parameters. The first parameter is a list containing the names of the subreddits and the second parameter is the number of post I want to collect.\n",
    "\n",
    "The functions returns a list of dataframes containing all the requested posts."
   ]
  },
  {
   "cell_type": "code",
   "execution_count": 9,
   "id": "93f98d89-4d64-4af9-bb6f-980ed0726714",
   "metadata": {},
   "outputs": [],
   "source": [
    "#function definition get_post\n",
    "\n",
    "def get_post(lst, no_post):\n",
    "    url = 'https://api.pushshift.io/reddit/search/submission' #pushshift reddit API link   \n",
    "    posts = []\n",
    "    \n",
    "    for sub in lst:\n",
    "        post_count = no_post   #assign the number of post passed to post_count\n",
    "        before  = int(time.time())  #get the current time and assigns it to before\n",
    "        \n",
    "        while post_count > 0:\n",
    "                \n",
    "            if post_count < 100:   \n",
    "                size = post_count\n",
    "            else:\n",
    "                size = 100\n",
    "            \n",
    "            params = {                      #parameters for the get method\n",
    "                'subreddit': sub,\n",
    "                 'size' : size,\n",
    "                 'before': before\n",
    "             }\n",
    "\n",
    "            res = requests.get(url, params)\n",
    "            json_data = res.json()\n",
    "            df_data = pd.DataFrame(json_data['data'])\n",
    "            \n",
    "            posts.append(df_data)\n",
    "            \n",
    "            post_count -= 100 \n",
    "            before = df_data['created_utc'].iloc[-1]\n",
    "            \n",
    "        time.sleep(3)  #create a 3 seconds wait between pulls\n",
    "    return posts"
   ]
  },
  {
   "cell_type": "markdown",
   "id": "d304dba7-b36e-442d-9764-f736c6727a30",
   "metadata": {},
   "source": [
    "I am going to call the **get_post** and pass in the subreddits and number of posts. I will collect 1010 post, the extra 10 post is for if I need to replace posts with errors."
   ]
  },
  {
   "cell_type": "code",
   "execution_count": 10,
   "id": "2ded3e0c-1894-4033-af5d-5c892876fc51",
   "metadata": {},
   "outputs": [],
   "source": [
    "subreddits = ['StarWars', 'startrek']\n",
    "df_list = get_post(subreddits, 1002)"
   ]
  },
  {
   "cell_type": "markdown",
   "id": "eb6178f9-f8fd-4577-9a11-9e09f4ba8a0b",
   "metadata": {},
   "source": [
    "Concat the list of dataframes"
   ]
  },
  {
   "cell_type": "code",
   "execution_count": 11,
   "id": "b975e53d-ba43-4485-b909-6d6a5a0bc3c5",
   "metadata": {},
   "outputs": [],
   "source": [
    "df = pd.concat(df_list, ignore_index=True)"
   ]
  },
  {
   "cell_type": "code",
   "execution_count": 23,
   "id": "0f0ad033-bf33-4782-96e3-6cc4ccd22708",
   "metadata": {},
   "outputs": [
    {
     "data": {
      "text/plain": [
       "(2002, 84)"
      ]
     },
     "execution_count": 23,
     "metadata": {},
     "output_type": "execute_result"
    }
   ],
   "source": [
    "df.shape"
   ]
  },
  {
   "cell_type": "markdown",
   "id": "19c2343b-32ed-47a6-ba5f-2241847add90",
   "metadata": {},
   "source": [
    "Export the raw dataframe as raw.csv"
   ]
  },
  {
   "cell_type": "code",
   "execution_count": 21,
   "id": "5dbd819c-29e4-4b85-81e4-61389fb831c2",
   "metadata": {},
   "outputs": [],
   "source": [
    "df.to_csv('../data/raw.csv', index=False)"
   ]
  }
 ],
 "metadata": {
  "kernelspec": {
   "display_name": "Python 3 (ipykernel)",
   "language": "python",
   "name": "python3"
  },
  "language_info": {
   "codemirror_mode": {
    "name": "ipython",
    "version": 3
   },
   "file_extension": ".py",
   "mimetype": "text/x-python",
   "name": "python",
   "nbconvert_exporter": "python",
   "pygments_lexer": "ipython3",
   "version": "3.10.2"
  },
  "widgets": {
   "application/vnd.jupyter.widget-state+json": {
    "state": {},
    "version_major": 2,
    "version_minor": 0
   }
  }
 },
 "nbformat": 4,
 "nbformat_minor": 5
}
