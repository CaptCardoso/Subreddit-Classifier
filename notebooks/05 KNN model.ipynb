{
 "cells": [
  {
   "cell_type": "markdown",
   "id": "0110206c-092e-41aa-a9db-e501fd62f00d",
   "metadata": {},
   "source": [
    "\n",
    "<img src=\"../images/starwarsstartrek.png\" style=\"float: center; margin: 0px; height: 150px; width: 500px\"> \n",
    "\n",
    "## SUBREDDIT CLASSIFIER\n",
    "\n",
    "###### _Author: Afolabi Cardoso_\n",
    "\n",
    "---"
   ]
  },
  {
   "cell_type": "markdown",
   "id": "63f168f4-3ecc-4615-954f-bf83c24626f7",
   "metadata": {},
   "source": [
    "### Pre-Processing and Random Forest modelling"
   ]
  },
  {
   "cell_type": "markdown",
   "id": "89045082-c619-4df2-ae47-d939f53ece9d",
   "metadata": {
    "tags": []
   },
   "source": [
    "---\n",
    "#### Contents:\n",
    "[Overview](#Overview) | [Imports](#Imports) | [Modeling](#Modeling) | [Model evaluation](#Model-evaluation)\n"
   ]
  },
  {
   "cell_type": "markdown",
   "id": "410e0f7f-7385-49a6-a3e6-e7c3d4508fe3",
   "metadata": {
    "tags": []
   },
   "source": [
    "---\n",
    "#### Overview\n",
    "\n",
    "In this notebook, I will be using Random forest classification to classify the dataset."
   ]
  },
  {
   "cell_type": "markdown",
   "id": "ec67f781-66d0-43f2-9978-6e1dac0f2397",
   "metadata": {},
   "source": [
    "---\n",
    "#### Imports"
   ]
  },
  {
   "cell_type": "code",
   "execution_count": 40,
   "id": "ffdd61e2-4bc3-4ba0-adc0-926eaa6d8536",
   "metadata": {
    "tags": []
   },
   "outputs": [],
   "source": [
    "import pandas as pd\n",
    "import numpy as np\n",
    "import seaborn as sns\n",
    "import matplotlib.pyplot as plt\n",
    "\n",
    "from sklearn.linear_model import LogisticRegression\n",
    "from sklearn.feature_extraction.text import CountVectorizer, TfidfVectorizer\n",
    "from sklearn.pipeline import Pipeline\n",
    "from sklearn.model_selection import train_test_split, GridSearchCV\n",
    "import sklearn.metrics as metrics\n",
    "from sklearn.metrics import plot_confusion_matrix\n",
    "from sklearn.ensemble import RandomForestClassifier, ExtraTreesClassifier, BaggingClassifier\n",
    "from sklearn.model_selection import train_test_split, cross_val_score,GridSearchCV\n",
    "from sklearn.neighbors import KNeighborsClassifier\n",
    "from sklearn.tree import DecisionTreeClassifier\n",
    "\n",
    "from nltk.tokenize import sent_tokenize, word_tokenize, RegexpTokenizer\n",
    "from nltk.stem import WordNetLemmatizer\n",
    "from nltk.stem.porter import PorterStemmer\n",
    "from nltk.corpus import stopwords\n",
    "from nltk.sentiment.vader import SentimentIntensityAnalyzer\n",
    "import re"
   ]
  },
  {
   "cell_type": "markdown",
   "id": "d26418db-0eee-41ad-bf8f-5fc696c0721b",
   "metadata": {},
   "source": [
    "#### Load Data"
   ]
  },
  {
   "cell_type": "code",
   "execution_count": 41,
   "id": "3b093e4b-d7f4-4301-b7fd-98b252fde87f",
   "metadata": {},
   "outputs": [
    {
     "data": {
      "text/html": [
       "<div>\n",
       "<style scoped>\n",
       "    .dataframe tbody tr th:only-of-type {\n",
       "        vertical-align: middle;\n",
       "    }\n",
       "\n",
       "    .dataframe tbody tr th {\n",
       "        vertical-align: top;\n",
       "    }\n",
       "\n",
       "    .dataframe thead th {\n",
       "        text-align: right;\n",
       "    }\n",
       "</style>\n",
       "<table border=\"1\" class=\"dataframe\">\n",
       "  <thead>\n",
       "    <tr style=\"text-align: right;\">\n",
       "      <th></th>\n",
       "      <th>title</th>\n",
       "      <th>selftext</th>\n",
       "      <th>created_utc</th>\n",
       "      <th>subreddit</th>\n",
       "      <th>mood</th>\n",
       "    </tr>\n",
       "  </thead>\n",
       "  <tbody>\n",
       "    <tr>\n",
       "      <th>0</th>\n",
       "      <td>wars game</td>\n",
       "      <td></td>\n",
       "      <td>1646329318</td>\n",
       "      <td>1</td>\n",
       "      <td>-0.5574</td>\n",
       "    </tr>\n",
       "    <tr>\n",
       "      <th>1</th>\n",
       "      <td>if a wars game about the famous wars in comics</td>\n",
       "      <td></td>\n",
       "      <td>1646329234</td>\n",
       "      <td>1</td>\n",
       "      <td>-0.8020</td>\n",
       "    </tr>\n",
       "    <tr>\n",
       "      <th>2</th>\n",
       "      <td>what makes a wars fan   a fan</td>\n",
       "      <td></td>\n",
       "      <td>1646329180</td>\n",
       "      <td>1</td>\n",
       "      <td>0.0000</td>\n",
       "    </tr>\n",
       "    <tr>\n",
       "      <th>3</th>\n",
       "      <td>what makes a wars fan</td>\n",
       "      <td></td>\n",
       "      <td>1646328985</td>\n",
       "      <td>1</td>\n",
       "      <td>-0.3182</td>\n",
       "    </tr>\n",
       "    <tr>\n",
       "      <th>4</th>\n",
       "      <td>random clone wars thoughts</td>\n",
       "      <td>the series makes me appreciate anakin so much ...</td>\n",
       "      <td>1646328915</td>\n",
       "      <td>1</td>\n",
       "      <td>-0.5574</td>\n",
       "    </tr>\n",
       "  </tbody>\n",
       "</table>\n",
       "</div>"
      ],
      "text/plain": [
       "                                            title  \\\n",
       "0                                       wars game   \n",
       "1  if a wars game about the famous wars in comics   \n",
       "2                  what makes a wars fan   a fan    \n",
       "3                          what makes a wars fan    \n",
       "4                      random clone wars thoughts   \n",
       "\n",
       "                                            selftext  created_utc  subreddit  \\\n",
       "0                                                      1646329318          1   \n",
       "1                                                      1646329234          1   \n",
       "2                                                      1646329180          1   \n",
       "3                                                      1646328985          1   \n",
       "4  the series makes me appreciate anakin so much ...   1646328915          1   \n",
       "\n",
       "     mood  \n",
       "0 -0.5574  \n",
       "1 -0.8020  \n",
       "2  0.0000  \n",
       "3 -0.3182  \n",
       "4 -0.5574  "
      ]
     },
     "execution_count": 41,
     "metadata": {},
     "output_type": "execute_result"
    }
   ],
   "source": [
    "df = pd.read_csv('../data/preprocessed.csv')\n",
    "df.head()"
   ]
  },
  {
   "cell_type": "markdown",
   "id": "857f7a8f-fdd4-425b-a040-160bafd2cd3f",
   "metadata": {
    "tags": []
   },
   "source": [
    "#### Modeling\n"
   ]
  },
  {
   "cell_type": "markdown",
   "id": "f1bf0e4a-de2d-4794-9efd-f239d78d7d45",
   "metadata": {},
   "source": [
    "#### train/test/split"
   ]
  },
  {
   "cell_type": "code",
   "execution_count": 42,
   "id": "84501a26-1cd0-40f4-a5c1-3215743d9d36",
   "metadata": {},
   "outputs": [],
   "source": [
    "X = df['title']\n",
    "y = df['subreddit']"
   ]
  },
  {
   "cell_type": "code",
   "execution_count": 43,
   "id": "50635762-938f-48ab-a703-36b3bbc619eb",
   "metadata": {},
   "outputs": [],
   "source": [
    "X_train,X_test,y_train,y_test = train_test_split(X,y,random_state=42)"
   ]
  },
  {
   "cell_type": "markdown",
   "id": "d799e053-acc1-4db0-b925-24f3e36f0585",
   "metadata": {},
   "source": [
    "#### Pipeline"
   ]
  },
  {
   "cell_type": "code",
   "execution_count": 51,
   "id": "a78dee88-17e5-40a3-b03d-0736f6ade132",
   "metadata": {},
   "outputs": [],
   "source": [
    "pipe = Pipeline([\n",
    "    ('vect',CountVectorizer()),\n",
    "    ('rf',RandomForestClassifier())\n",
    "])"
   ]
  },
  {
   "cell_type": "markdown",
   "id": "1afaedb8-abf8-440e-9938-542a362d0533",
   "metadata": {},
   "source": [
    "#### Grid Search"
   ]
  },
  {
   "cell_type": "markdown",
   "id": "18f24a26-d909-408e-9db4-333d3a13553c",
   "metadata": {},
   "source": [
    "Setup the parameters for the grid search"
   ]
  },
  {
   "cell_type": "code",
   "execution_count": 52,
   "id": "1bf26d3f-e3f1-46c7-a535-50a33e092d59",
   "metadata": {},
   "outputs": [],
   "source": [
    "params = {\n",
    "    'vect__stop_words': [None, 'english'],\n",
    "    'vect__min_df': [1,2],\n",
    "    'vect__max_df': [1.0, .75, .5, .25],\n",
    "    'vect__binary': [True, False],\n",
    "}"
   ]
  },
  {
   "cell_type": "code",
   "execution_count": 53,
   "id": "af372cda-f343-452f-acc6-1aa25dfb2b21",
   "metadata": {},
   "outputs": [
    {
     "name": "stdout",
     "output_type": "stream",
     "text": [
      "0.8433333333333334\n"
     ]
    },
    {
     "data": {
      "text/plain": [
       "{'vect__binary': True,\n",
       " 'vect__max_df': 0.75,\n",
       " 'vect__min_df': 2,\n",
       " 'vect__stop_words': 'english'}"
      ]
     },
     "execution_count": 53,
     "metadata": {},
     "output_type": "execute_result"
    }
   ],
   "source": [
    "gs = GridSearchCV(pipe, param_grid=params, verbose=0)\n",
    "\n",
    "gs.fit(X_train, y_train)\n",
    "print(gs.best_score_)\n",
    "gs.best_params_"
   ]
  },
  {
   "cell_type": "markdown",
   "id": "5c9008b4-e478-427a-a0a7-15add07141c4",
   "metadata": {},
   "source": [
    "#### Model evaluation"
   ]
  },
  {
   "cell_type": "markdown",
   "id": "e5c473ac-8660-4791-bc42-3411ab77707d",
   "metadata": {},
   "source": [
    "Lets plot the confusion matrix "
   ]
  },
  {
   "cell_type": "code",
   "execution_count": 13,
   "id": "f3b4af6a-f76a-4bf0-8e4c-e0207b68a485",
   "metadata": {},
   "outputs": [
    {
     "name": "stderr",
     "output_type": "stream",
     "text": [
      "/Library/Frameworks/Python.framework/Versions/3.10/lib/python3.10/site-packages/sklearn/utils/deprecation.py:87: FutureWarning: Function plot_confusion_matrix is deprecated; Function `plot_confusion_matrix` is deprecated in 1.0 and will be removed in 1.2. Use one of the class methods: ConfusionMatrixDisplay.from_predictions or ConfusionMatrixDisplay.from_estimator.\n",
      "  warnings.warn(msg, category=FutureWarning)\n"
     ]
    },
    {
     "data": {
      "text/plain": [
       "<sklearn.metrics._plot.confusion_matrix.ConfusionMatrixDisplay at 0x12cb1c9d0>"
      ]
     },
     "execution_count": 13,
     "metadata": {},
     "output_type": "execute_result"
    },
    {
     "data": {
      "image/png": "[encoded data removed]",
      "text/plain": [
       "<Figure size 432x288 with 2 Axes>"
      ]
     },
     "metadata": {
      "needs_background": "light"
     },
     "output_type": "display_data"
    }
   ],
   "source": [
    "metrics.plot_confusion_matrix(gs, X_test, y_test, cmap = 'Blues',\n",
    "                             values_format='d', display_labels=['startrek','starwars'])"
   ]
  },
  {
   "cell_type": "code",
   "execution_count": 14,
   "id": "e75cb683-2d03-4efa-b3a9-a108fef24302",
   "metadata": {},
   "outputs": [],
   "source": [
    "y_pred = gs.predict(X_test)"
   ]
  },
  {
   "cell_type": "code",
   "execution_count": 15,
   "id": "fd71fc70-7147-4b59-aea5-bcd7ad960b66",
   "metadata": {},
   "outputs": [],
   "source": [
    "misclassified = X_test[y_test != y_pred]"
   ]
  },
  {
   "cell_type": "code",
   "execution_count": 16,
   "id": "26004b77-ff36-4b2a-96b2-a39f7641e4c6",
   "metadata": {},
   "outputs": [
    {
     "data": {
      "text/plain": [
       "1860      Kor s facial expression while going mad is gold\n",
       "1323                                   No bell riots     \n",
       "1292                                            Holograms\n",
       "1664                    Alternate titles for each series \n",
       "1981                                 Wordle    The Game  \n",
       "                              ...                        \n",
       "939     What do people think the untitled movies are f...\n",
       "415                Which do you say  AT AT or A TEE A TEE\n",
       "1829                                   Looking for a game\n",
       "1385                                             Chakotay\n",
       "1874                                                  Odo\n",
       "Name: title, Length: 75, dtype: object"
      ]
     },
     "execution_count": 16,
     "metadata": {},
     "output_type": "execute_result"
    }
   ],
   "source": [
    "misclassified"
   ]
  },
  {
   "cell_type": "code",
   "execution_count": 55,
   "id": "9c15d52c-937b-4773-a224-4021a599f8a5",
   "metadata": {},
   "outputs": [],
   "source": [
    "cvec = CountVectorizer(stop_words='english', ngram_range = (1,1))\n",
    "cvec.fit(misclassified)\n",
    "X = cvec.transform(misclassified)"
   ]
  },
  {
   "cell_type": "code",
   "execution_count": 56,
   "id": "733fd327-7193-484d-9bfa-3575e7f373d2",
   "metadata": {
    "tags": []
   },
   "outputs": [],
   "source": [
    "cvec_df = pd.DataFrame(X.todense(), columns=cvec.get_feature_names_out())"
   ]
  },
  {
   "cell_type": "code",
   "execution_count": 57,
   "id": "dfb1efe2-1729-468a-aadf-f75336591153",
   "metadata": {},
   "outputs": [
    {
     "data": {
      "text/html": [
       "<div>\n",
       "<style scoped>\n",
       "    .dataframe tbody tr th:only-of-type {\n",
       "        vertical-align: middle;\n",
       "    }\n",
       "\n",
       "    .dataframe tbody tr th {\n",
       "        vertical-align: top;\n",
       "    }\n",
       "\n",
       "    .dataframe thead th {\n",
       "        text-align: right;\n",
       "    }\n",
       "</style>\n",
       "<table border=\"1\" class=\"dataframe\">\n",
       "  <thead>\n",
       "    <tr style=\"text-align: right;\">\n",
       "      <th></th>\n",
       "      <th>061</th>\n",
       "      <th>10</th>\n",
       "      <th>100</th>\n",
       "      <th>1894</th>\n",
       "      <th>1981</th>\n",
       "      <th>19th</th>\n",
       "      <th>2025</th>\n",
       "      <th>2028</th>\n",
       "      <th>4659</th>\n",
       "      <th>action</th>\n",
       "      <th>...</th>\n",
       "      <th>watching</th>\n",
       "      <th>way</th>\n",
       "      <th>wordle</th>\n",
       "      <th>work</th>\n",
       "      <th>wormhole</th>\n",
       "      <th>worse</th>\n",
       "      <th>wounded</th>\n",
       "      <th>wow</th>\n",
       "      <th>yelchin</th>\n",
       "      <th>zoe</th>\n",
       "    </tr>\n",
       "  </thead>\n",
       "  <tbody>\n",
       "    <tr>\n",
       "      <th>0</th>\n",
       "      <td>0</td>\n",
       "      <td>0</td>\n",
       "      <td>0</td>\n",
       "      <td>0</td>\n",
       "      <td>0</td>\n",
       "      <td>0</td>\n",
       "      <td>0</td>\n",
       "      <td>0</td>\n",
       "      <td>0</td>\n",
       "      <td>0</td>\n",
       "      <td>...</td>\n",
       "      <td>0</td>\n",
       "      <td>0</td>\n",
       "      <td>0</td>\n",
       "      <td>0</td>\n",
       "      <td>0</td>\n",
       "      <td>0</td>\n",
       "      <td>0</td>\n",
       "      <td>0</td>\n",
       "      <td>0</td>\n",
       "      <td>0</td>\n",
       "    </tr>\n",
       "    <tr>\n",
       "      <th>1</th>\n",
       "      <td>0</td>\n",
       "      <td>0</td>\n",
       "      <td>0</td>\n",
       "      <td>0</td>\n",
       "      <td>0</td>\n",
       "      <td>0</td>\n",
       "      <td>0</td>\n",
       "      <td>0</td>\n",
       "      <td>0</td>\n",
       "      <td>0</td>\n",
       "      <td>...</td>\n",
       "      <td>0</td>\n",
       "      <td>0</td>\n",
       "      <td>0</td>\n",
       "      <td>0</td>\n",
       "      <td>0</td>\n",
       "      <td>0</td>\n",
       "      <td>0</td>\n",
       "      <td>0</td>\n",
       "      <td>0</td>\n",
       "      <td>0</td>\n",
       "    </tr>\n",
       "    <tr>\n",
       "      <th>2</th>\n",
       "      <td>0</td>\n",
       "      <td>0</td>\n",
       "      <td>0</td>\n",
       "      <td>0</td>\n",
       "      <td>0</td>\n",
       "      <td>0</td>\n",
       "      <td>0</td>\n",
       "      <td>0</td>\n",
       "      <td>0</td>\n",
       "      <td>0</td>\n",
       "      <td>...</td>\n",
       "      <td>0</td>\n",
       "      <td>0</td>\n",
       "      <td>0</td>\n",
       "      <td>0</td>\n",
       "      <td>0</td>\n",
       "      <td>0</td>\n",
       "      <td>0</td>\n",
       "      <td>0</td>\n",
       "      <td>0</td>\n",
       "      <td>0</td>\n",
       "    </tr>\n",
       "    <tr>\n",
       "      <th>3</th>\n",
       "      <td>0</td>\n",
       "      <td>0</td>\n",
       "      <td>0</td>\n",
       "      <td>0</td>\n",
       "      <td>0</td>\n",
       "      <td>0</td>\n",
       "      <td>0</td>\n",
       "      <td>0</td>\n",
       "      <td>0</td>\n",
       "      <td>0</td>\n",
       "      <td>...</td>\n",
       "      <td>0</td>\n",
       "      <td>0</td>\n",
       "      <td>0</td>\n",
       "      <td>0</td>\n",
       "      <td>0</td>\n",
       "      <td>0</td>\n",
       "      <td>0</td>\n",
       "      <td>0</td>\n",
       "      <td>0</td>\n",
       "      <td>0</td>\n",
       "    </tr>\n",
       "    <tr>\n",
       "      <th>4</th>\n",
       "      <td>0</td>\n",
       "      <td>0</td>\n",
       "      <td>0</td>\n",
       "      <td>0</td>\n",
       "      <td>0</td>\n",
       "      <td>0</td>\n",
       "      <td>0</td>\n",
       "      <td>0</td>\n",
       "      <td>0</td>\n",
       "      <td>0</td>\n",
       "      <td>...</td>\n",
       "      <td>0</td>\n",
       "      <td>0</td>\n",
       "      <td>1</td>\n",
       "      <td>0</td>\n",
       "      <td>0</td>\n",
       "      <td>0</td>\n",
       "      <td>0</td>\n",
       "      <td>0</td>\n",
       "      <td>0</td>\n",
       "      <td>0</td>\n",
       "    </tr>\n",
       "  </tbody>\n",
       "</table>\n",
       "<p>5 rows × 305 columns</p>\n",
       "</div>"
      ],
      "text/plain": [
       "   061  10  100  1894  1981  19th  2025  2028  4659  action  ...  watching  \\\n",
       "0    0   0    0     0     0     0     0     0     0       0  ...         0   \n",
       "1    0   0    0     0     0     0     0     0     0       0  ...         0   \n",
       "2    0   0    0     0     0     0     0     0     0       0  ...         0   \n",
       "3    0   0    0     0     0     0     0     0     0       0  ...         0   \n",
       "4    0   0    0     0     0     0     0     0     0       0  ...         0   \n",
       "\n",
       "   way  wordle  work  wormhole  worse  wounded  wow  yelchin  zoe  \n",
       "0    0       0     0         0      0        0    0        0    0  \n",
       "1    0       0     0         0      0        0    0        0    0  \n",
       "2    0       0     0         0      0        0    0        0    0  \n",
       "3    0       0     0         0      0        0    0        0    0  \n",
       "4    0       1     0         0      0        0    0        0    0  \n",
       "\n",
       "[5 rows x 305 columns]"
      ]
     },
     "execution_count": 57,
     "metadata": {},
     "output_type": "execute_result"
    }
   ],
   "source": [
    "cvec_df.head()"
   ]
  },
  {
   "cell_type": "markdown",
   "id": "5b3d14c0-1249-4148-9d37-d3a954e5f317",
   "metadata": {},
   "source": [
    "I am going to plot the bar chart of the top misclassified words"
   ]
  },
  {
   "cell_type": "code",
   "execution_count": 60,
   "id": "cd7d7fc7-1f05-4210-a053-bb0f82e83125",
   "metadata": {},
   "outputs": [
    {
     "data": {
      "image/png": "[encoded data removed]",
      "text/plain": [
       "<Figure size 1440x720 with 1 Axes>"
      ]
     },
     "metadata": {
      "needs_background": "light"
     },
     "output_type": "display_data"
    }
   ],
   "source": [
    "top_misclassified = cvec_df.sum().sort_values(ascending=False)[:15]\n",
    "\n",
    "plt.figure(figsize=(20,10))\n",
    "\n",
    "#set color for largest bar\n",
    "colr = ['grey' if (x<max(top_misclassified)) else 'blue' for x in top_misclassified]\n",
    "\n",
    "sns.barplot(x = top_misclassified, y = top_misclassified.index, palette = colr)\n",
    "plt.yticks(fontsize= 20)\n",
    "\n",
    "param = {'fontsize': 20,\n",
    "        'fontweight': 2,\n",
    "        }\n",
    "plt.title('Top fifteen missclasified words', fontdict=param);"
   ]
  }
 ],
 "metadata": {
  "kernelspec": {
   "display_name": "Python 3 (ipykernel)",
   "language": "python",
   "name": "python3"
  },
  "language_info": {
   "codemirror_mode": {
    "name": "ipython",
    "version": 3
   },
   "file_extension": ".py",
   "mimetype": "text/x-python",
   "name": "python",
   "nbconvert_exporter": "python",
   "pygments_lexer": "ipython3",
   "version": "3.10.2"
  },
  "widgets": {
   "application/vnd.jupyter.widget-state+json": {
    "state": {},
    "version_major": 2,
    "version_minor": 0
   }
  }
 },
 "nbformat": 4,
 "nbformat_minor": 5
}
