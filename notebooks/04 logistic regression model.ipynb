{
 "cells": [
  {
   "cell_type": "markdown",
   "id": "60026db1-f8d8-4b3c-a64f-d11354dc89d4",
   "metadata": {},
   "source": [
    "\n",
    "<img src=\"../images/starwarsstartrek.png\" style=\"float: center; margin: 0px; height: 150px; width: 500px\"> \n",
    "\n",
    "## SUBREDDIT CLASSIFIER\n",
    "\n",
    "###### _Author: Afolabi Cardoso_\n",
    "\n",
    "---"
   ]
  },
  {
   "cell_type": "markdown",
   "id": "ecb9e2bb-5056-48da-a481-d701d85b1855",
   "metadata": {},
   "source": [
    "### Pre-Processing and Logistic Regression modelling"
   ]
  },
  {
   "cell_type": "markdown",
   "id": "7f743587-b30c-449e-9f88-b7fe7143bebe",
   "metadata": {
    "tags": []
   },
   "source": [
    "---\n",
    "#### Contents:\n",
    "[Overview](#Overview) | [Imports](#Imports) | [Data Cleaning Training Set](#Data-Cleaning-Training-Set) | [Data Cleaning Test Set](#Data-Cleaning-Test-Set) | [Exports](#Exports)\n"
   ]
  },
  {
   "cell_type": "markdown",
   "id": "3dc66e1a-2361-4cab-8b1b-e8e86cee9f7c",
   "metadata": {
    "tags": []
   },
   "source": [
    "---\n",
    "#### Overview\n",
    "\n"
   ]
  },
  {
   "cell_type": "markdown",
   "id": "69276c71-91c8-409a-8829-9ddd34c463e8",
   "metadata": {},
   "source": [
    "---\n",
    "#### Imports"
   ]
  },
  {
   "cell_type": "code",
   "execution_count": 34,
   "id": "b6363b61-7420-4af3-a879-b3c966b12b47",
   "metadata": {},
   "outputs": [],
   "source": [
    "import pandas as pd\n",
    "import numpy as np\n",
    "import seaborn as sns\n",
    "import matplotlib.pyplot as plt\n",
    "\n",
    "from sklearn.linear_model import LogisticRegression\n",
    "from sklearn.feature_extraction.text import CountVectorizer, TfidfVectorizer\n",
    "from sklearn.pipeline import Pipeline\n",
    "from sklearn.model_selection import train_test_split, GridSearchCV\n",
    "from sklearn.metrics import plot_confusion_matrix\n",
    "\n",
    "from nltk.tokenize import sent_tokenize, word_tokenize, RegexpTokenizer\n",
    "from nltk.stem import WordNetLemmatizer\n",
    "from nltk.stem.porter import PorterStemmer\n",
    "from nltk.corpus import stopwords\n",
    "from nltk.sentiment.vader import SentimentIntensityAnalyzer\n",
    "import re"
   ]
  },
  {
   "cell_type": "code",
   "execution_count": 41,
   "id": "c0ac93df-d386-47e3-8b14-e494f5ba732f",
   "metadata": {},
   "outputs": [
    {
     "data": {
      "text/html": [
       "<div>\n",
       "<style scoped>\n",
       "    .dataframe tbody tr th:only-of-type {\n",
       "        vertical-align: middle;\n",
       "    }\n",
       "\n",
       "    .dataframe tbody tr th {\n",
       "        vertical-align: top;\n",
       "    }\n",
       "\n",
       "    .dataframe thead th {\n",
       "        text-align: right;\n",
       "    }\n",
       "</style>\n",
       "<table border=\"1\" class=\"dataframe\">\n",
       "  <thead>\n",
       "    <tr style=\"text-align: right;\">\n",
       "      <th></th>\n",
       "      <th>title</th>\n",
       "      <th>selftext</th>\n",
       "      <th>created_utc</th>\n",
       "      <th>subreddit</th>\n",
       "      <th>mood</th>\n",
       "    </tr>\n",
       "  </thead>\n",
       "  <tbody>\n",
       "    <tr>\n",
       "      <th>0</th>\n",
       "      <td>Star wars game</td>\n",
       "      <td></td>\n",
       "      <td>1646329318</td>\n",
       "      <td>starwars</td>\n",
       "      <td>-0.5574</td>\n",
       "    </tr>\n",
       "    <tr>\n",
       "      <th>1</th>\n",
       "      <td>If a Star Wars game about the famous wars in c...</td>\n",
       "      <td></td>\n",
       "      <td>1646329234</td>\n",
       "      <td>starwars</td>\n",
       "      <td>-0.8020</td>\n",
       "    </tr>\n",
       "    <tr>\n",
       "      <th>2</th>\n",
       "      <td>What makes a Star Wars fana FAN</td>\n",
       "      <td></td>\n",
       "      <td>1646329180</td>\n",
       "      <td>starwars</td>\n",
       "      <td>-0.1449</td>\n",
       "    </tr>\n",
       "    <tr>\n",
       "      <th>3</th>\n",
       "      <td>What makes a Star Wars fan</td>\n",
       "      <td></td>\n",
       "      <td>1646328985</td>\n",
       "      <td>starwars</td>\n",
       "      <td>-0.3182</td>\n",
       "    </tr>\n",
       "    <tr>\n",
       "      <th>4</th>\n",
       "      <td>Random Clone Wars Thoughts</td>\n",
       "      <td>The series makes me appreciate Anakin so much ...</td>\n",
       "      <td>1646328915</td>\n",
       "      <td>starwars</td>\n",
       "      <td>-0.5574</td>\n",
       "    </tr>\n",
       "  </tbody>\n",
       "</table>\n",
       "</div>"
      ],
      "text/plain": [
       "                                               title  \\\n",
       "0                                     Star wars game   \n",
       "1  If a Star Wars game about the famous wars in c...   \n",
       "2                    What makes a Star Wars fana FAN   \n",
       "3                         What makes a Star Wars fan   \n",
       "4                         Random Clone Wars Thoughts   \n",
       "\n",
       "                                            selftext  created_utc subreddit  \\\n",
       "0                                                      1646329318  starwars   \n",
       "1                                                      1646329234  starwars   \n",
       "2                                                      1646329180  starwars   \n",
       "3                                                      1646328985  starwars   \n",
       "4  The series makes me appreciate Anakin so much ...   1646328915  starwars   \n",
       "\n",
       "     mood  \n",
       "0 -0.5574  \n",
       "1 -0.8020  \n",
       "2 -0.1449  \n",
       "3 -0.3182  \n",
       "4 -0.5574  "
      ]
     },
     "execution_count": 41,
     "metadata": {},
     "output_type": "execute_result"
    }
   ],
   "source": [
    "df = pd.read_csv('../data/preprocessed.csv')\n",
    "df.head()"
   ]
  },
  {
   "cell_type": "code",
   "execution_count": 36,
   "id": "2864e7c9-878c-4bde-ad2f-805e00afa5f2",
   "metadata": {},
   "outputs": [
    {
     "data": {
      "text/html": [
       "<div>\n",
       "<style scoped>\n",
       "    .dataframe tbody tr th:only-of-type {\n",
       "        vertical-align: middle;\n",
       "    }\n",
       "\n",
       "    .dataframe tbody tr th {\n",
       "        vertical-align: top;\n",
       "    }\n",
       "\n",
       "    .dataframe thead th {\n",
       "        text-align: right;\n",
       "    }\n",
       "</style>\n",
       "<table border=\"1\" class=\"dataframe\">\n",
       "  <thead>\n",
       "    <tr style=\"text-align: right;\">\n",
       "      <th></th>\n",
       "      <th>title</th>\n",
       "      <th>selftext</th>\n",
       "      <th>created_utc</th>\n",
       "      <th>subreddit</th>\n",
       "    </tr>\n",
       "  </thead>\n",
       "  <tbody>\n",
       "    <tr>\n",
       "      <th>0</th>\n",
       "      <td>Star wars game</td>\n",
       "      <td></td>\n",
       "      <td>1646329318</td>\n",
       "      <td>StarWars</td>\n",
       "    </tr>\n",
       "    <tr>\n",
       "      <th>1</th>\n",
       "      <td>If a Star Wars game about the famous wars in c...</td>\n",
       "      <td></td>\n",
       "      <td>1646329234</td>\n",
       "      <td>StarWars</td>\n",
       "    </tr>\n",
       "    <tr>\n",
       "      <th>2</th>\n",
       "      <td>What makes a Star Wars fan...a FAN?</td>\n",
       "      <td></td>\n",
       "      <td>1646329180</td>\n",
       "      <td>StarWars</td>\n",
       "    </tr>\n",
       "    <tr>\n",
       "      <th>3</th>\n",
       "      <td>What makes a Star Wars fan?</td>\n",
       "      <td></td>\n",
       "      <td>1646328985</td>\n",
       "      <td>StarWars</td>\n",
       "    </tr>\n",
       "    <tr>\n",
       "      <th>4</th>\n",
       "      <td>Random Clone Wars Thoughts</td>\n",
       "      <td>The series makes me appreciate Anakin so much ...</td>\n",
       "      <td>1646328915</td>\n",
       "      <td>StarWars</td>\n",
       "    </tr>\n",
       "  </tbody>\n",
       "</table>\n",
       "</div>"
      ],
      "text/plain": [
       "                                               title  \\\n",
       "0                                     Star wars game   \n",
       "1  If a Star Wars game about the famous wars in c...   \n",
       "2                What makes a Star Wars fan...a FAN?   \n",
       "3                        What makes a Star Wars fan?   \n",
       "4                         Random Clone Wars Thoughts   \n",
       "\n",
       "                                            selftext  created_utc subreddit  \n",
       "0                                                      1646329318  StarWars  \n",
       "1                                                      1646329234  StarWars  \n",
       "2                                                      1646329180  StarWars  \n",
       "3                                                      1646328985  StarWars  \n",
       "4  The series makes me appreciate Anakin so much ...   1646328915  StarWars  "
      ]
     },
     "execution_count": 36,
     "metadata": {},
     "output_type": "execute_result"
    }
   ],
   "source": [
    "df.head()"
   ]
  },
  {
   "cell_type": "markdown",
   "id": "bdffaf54-9a15-4d1c-b562-ae9b1bc6ef13",
   "metadata": {
    "tags": []
   },
   "source": [
    "#### Pre processing\n"
   ]
  },
  {
   "cell_type": "markdown",
   "id": "e749471f-4a70-4106-90af-0ab1c0afa9ff",
   "metadata": {},
   "source": [
    "Fot the pre processing, we will start by removing punctuations. I will use regex and pandas str.replace method"
   ]
  },
  {
   "cell_type": "code",
   "execution_count": 37,
   "id": "ad92e0ef-c873-4848-9a36-7468dcdc2503",
   "metadata": {},
   "outputs": [
    {
     "name": "stderr",
     "output_type": "stream",
     "text": [
      "/var/folders/db/yz8g3qx147g7dfn7_8w2pxl80000gn/T/ipykernel_95184/2270917832.py:1: FutureWarning: The default value of regex will change from True to False in a future version.\n",
      "  df['title'] = df['title'].str.replace('[^\\w\\s]','')\n"
     ]
    }
   ],
   "source": [
    "df['title'] = df['title'].str.replace('[^\\w\\s]','')"
   ]
  },
  {
   "cell_type": "code",
   "execution_count": 38,
   "id": "e86a5d4b-7f1a-4ce2-b693-aee4d783fbf6",
   "metadata": {},
   "outputs": [
    {
     "data": {
      "text/plain": [
       "0                                          Star wars game\n",
       "1       If a Star Wars game about the famous wars in c...\n",
       "2                         What makes a Star Wars fana FAN\n",
       "3                              What makes a Star Wars fan\n",
       "4                              Random Clone Wars Thoughts\n",
       "                              ...                        \n",
       "1995      I have finally watched DS9 from start to finish\n",
       "1996                                           TOS script\n",
       "1997    How did you get into Trek What series was your...\n",
       "1998    If youve never seen this this is the prototype...\n",
       "1999    The Ready Room All In Sonequa MartinGreen amp ...\n",
       "Name: title, Length: 2000, dtype: object"
      ]
     },
     "execution_count": 38,
     "metadata": {},
     "output_type": "execute_result"
    }
   ],
   "source": [
    "df['title']"
   ]
  },
  {
   "cell_type": "code",
   "execution_count": null,
   "id": "8b3f3089-74cc-42e7-93ae-f247d2daf120",
   "metadata": {},
   "outputs": [],
   "source": []
  }
 ],
 "metadata": {
  "kernelspec": {
   "display_name": "Python 3 (ipykernel)",
   "language": "python",
   "name": "python3"
  },
  "language_info": {
   "codemirror_mode": {
    "name": "ipython",
    "version": 3
   },
   "file_extension": ".py",
   "mimetype": "text/x-python",
   "name": "python",
   "nbconvert_exporter": "python",
   "pygments_lexer": "ipython3",
   "version": "3.10.2"
  },
  "widgets": {
   "application/vnd.jupyter.widget-state+json": {
    "state": {},
    "version_major": 2,
    "version_minor": 0
   }
  }
 },
 "nbformat": 4,
 "nbformat_minor": 5
}
