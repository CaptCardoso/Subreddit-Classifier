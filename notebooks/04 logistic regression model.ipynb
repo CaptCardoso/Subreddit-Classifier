{
 "cells": [
  {
   "cell_type": "markdown",
   "id": "60026db1-f8d8-4b3c-a64f-d11354dc89d4",
   "metadata": {},
   "source": [
    "\n",
    "<img src=\"../images/starwarsstartrek.png\" style=\"float: center; margin: 0px; height: 150px; width: 500px\"> \n",
    "\n",
    "## SUBREDDIT CLASSIFIER\n",
    "\n",
    "###### _Author: Afolabi Cardoso_\n",
    "\n",
    "---"
   ]
  },
  {
   "cell_type": "markdown",
   "id": "ecb9e2bb-5056-48da-a481-d701d85b1855",
   "metadata": {},
   "source": [
    "### Pre-Processing and Logistic Regression modelling"
   ]
  },
  {
   "cell_type": "markdown",
   "id": "7f743587-b30c-449e-9f88-b7fe7143bebe",
   "metadata": {
    "tags": []
   },
   "source": [
    "---\n",
    "#### Contents:\n",
    "[Overview](#Overview) | [Imports](#Imports) | [Data Cleaning Training Set](#Data-Cleaning-Training-Set) | [Data Cleaning Test Set](#Data-Cleaning-Test-Set) | [Exports](#Exports)\n"
   ]
  },
  {
   "cell_type": "markdown",
   "id": "3dc66e1a-2361-4cab-8b1b-e8e86cee9f7c",
   "metadata": {
    "tags": []
   },
   "source": [
    "---\n",
    "#### Overview\n",
    "\n"
   ]
  },
  {
   "cell_type": "markdown",
   "id": "69276c71-91c8-409a-8829-9ddd34c463e8",
   "metadata": {},
   "source": [
    "---\n",
    "#### Imports"
   ]
  },
  {
   "cell_type": "code",
   "execution_count": 40,
   "id": "b6363b61-7420-4af3-a879-b3c966b12b47",
   "metadata": {},
   "outputs": [],
   "source": [
    "import pandas as pd\n",
    "import numpy as np\n",
    "import seaborn as sns\n",
    "import matplotlib.pyplot as plt\n",
    "\n",
    "from sklearn.linear_model import LogisticRegression\n",
    "from sklearn.feature_extraction.text import CountVectorizer, TfidfVectorizer\n",
    "from sklearn.pipeline import Pipeline\n",
    "from sklearn.model_selection import train_test_split, GridSearchCV\n",
    "import sklearn.metrics as metrics\n",
    "from sklearn.metrics import plot_confusion_matrix\n",
    "\n",
    "from nltk.tokenize import sent_tokenize, word_tokenize, RegexpTokenizer\n",
    "from nltk.stem import WordNetLemmatizer\n",
    "from nltk.stem.porter import PorterStemmer\n",
    "from nltk.corpus import stopwords\n",
    "from nltk.sentiment.vader import SentimentIntensityAnalyzer\n",
    "import re"
   ]
  },
  {
   "cell_type": "code",
   "execution_count": 41,
   "id": "c0ac93df-d386-47e3-8b14-e494f5ba732f",
   "metadata": {},
   "outputs": [
    {
     "data": {
      "text/plain": [
       "0"
      ]
     },
     "execution_count": 41,
     "metadata": {},
     "output_type": "execute_result"
    }
   ],
   "source": [
    "df = pd.read_csv('../data/preprocessed.csv')\n",
    "df['title'].isna().sum()"
   ]
  },
  {
   "cell_type": "markdown",
   "id": "bdffaf54-9a15-4d1c-b562-ae9b1bc6ef13",
   "metadata": {
    "tags": []
   },
   "source": [
    "## Modeling\n"
   ]
  },
  {
   "cell_type": "markdown",
   "id": "e749471f-4a70-4106-90af-0ab1c0afa9ff",
   "metadata": {},
   "source": [
    "#### Logistic regression model"
   ]
  },
  {
   "cell_type": "markdown",
   "id": "927a1b5f-c797-4eb4-b455-b784ddf0db72",
   "metadata": {},
   "source": [
    "Define our X, y"
   ]
  },
  {
   "cell_type": "code",
   "execution_count": 42,
   "id": "8b3f3089-74cc-42e7-93ae-f247d2daf120",
   "metadata": {},
   "outputs": [],
   "source": [
    "X = df['title']\n",
    "y = df['subreddit']"
   ]
  },
  {
   "cell_type": "markdown",
   "id": "4c43bacd-0de6-4eff-99b1-804e3d45de1e",
   "metadata": {},
   "source": [
    "#### Train/Test split"
   ]
  },
  {
   "cell_type": "code",
   "execution_count": 43,
   "id": "4e338b86-e955-4ca5-939f-7c93b65a96b5",
   "metadata": {},
   "outputs": [],
   "source": [
    "X_train, X_test, y_train, y_test = train_test_split(X, y, random_state= 42)"
   ]
  },
  {
   "cell_type": "code",
   "execution_count": 44,
   "id": "6565ffdb-e07d-465a-b94b-c05ea2ea2afd",
   "metadata": {},
   "outputs": [
    {
     "data": {
      "text/plain": [
       "0"
      ]
     },
     "execution_count": 44,
     "metadata": {},
     "output_type": "execute_result"
    }
   ],
   "source": [
    "y.isna().sum()"
   ]
  },
  {
   "cell_type": "markdown",
   "id": "ece81e0c-d699-45ac-b7a2-7747a910c9e7",
   "metadata": {},
   "source": [
    "#### Baseline accuracy score"
   ]
  },
  {
   "cell_type": "code",
   "execution_count": 45,
   "id": "3c97a905-3eb3-4684-9442-6f7d92d4c729",
   "metadata": {},
   "outputs": [],
   "source": [
    "baseline = y_train.value_counts(normalize=True)"
   ]
  },
  {
   "cell_type": "markdown",
   "id": "0ced8419-7e68-40a8-8f71-33cc11eef070",
   "metadata": {},
   "source": [
    "#### Pipeline\n",
    "\n",
    "In this pipeline, i will have \n",
    "1. CountVectorizer\n",
    "2. LogisticRegression"
   ]
  },
  {
   "cell_type": "code",
   "execution_count": 46,
   "id": "75d7c7fc-e812-48e8-b504-fb71a6f35184",
   "metadata": {},
   "outputs": [
    {
     "data": {
      "text/plain": [
       "sklearn.feature_extraction.text.CountVectorizer"
      ]
     },
     "execution_count": 46,
     "metadata": {},
     "output_type": "execute_result"
    }
   ],
   "source": [
    "pipe = Pipeline([\n",
    "    ('vect',CountVectorizer()),\n",
    "    ('lr',LogisticRegression())\n",
    "])\n",
    "CountVectorizer"
   ]
  },
  {
   "cell_type": "markdown",
   "id": "d197ddf6-4b15-48df-8cc8-5c72d2d62335",
   "metadata": {},
   "source": [
    "#### GridSearchCV"
   ]
  },
  {
   "cell_type": "code",
   "execution_count": 49,
   "id": "571d668c-8869-479d-9c73-2aeeb16647ce",
   "metadata": {
    "tags": []
   },
   "outputs": [
    {
     "name": "stdout",
     "output_type": "stream",
     "text": [
      "0.8653333333333334\n"
     ]
    },
    {
     "data": {
      "text/plain": [
       "{'lr__penalty': 'l2',\n",
       " 'vect__binary': False,\n",
       " 'vect__max_df': 1.0,\n",
       " 'vect__min_df': 1,\n",
       " 'vect__stop_words': 'english'}"
      ]
     },
     "execution_count": 49,
     "metadata": {},
     "output_type": "execute_result"
    }
   ],
   "source": [
    "params = {\n",
    "    'vect__stop_words': [None, 'english'],\n",
    "    'vect__min_df': [1,2],\n",
    "    'vect__max_df': [1.0, .75, .5, .25],\n",
    "    'vect__binary': [True, False],\n",
    "    'lr__penalty': ['l2', 'none']\n",
    "    \n",
    "}\n",
    "gs = GridSearchCV(pipe, param_grid=params)\n",
    "gs.fit(X_train, y_train)\n",
    "\n",
    "print(gs.best_score_)\n",
    "gs.best_params_"
   ]
  },
  {
   "cell_type": "markdown",
   "id": "f653101c-5597-4fca-b442-a20c75a31668",
   "metadata": {},
   "source": [
    "## Model Evaluation"
   ]
  },
  {
   "cell_type": "markdown",
   "id": "e7bf2338-f3a3-4d92-b76f-b93d36c581dd",
   "metadata": {},
   "source": [
    "Lets plot the confusion matrix "
   ]
  },
  {
   "cell_type": "code",
   "execution_count": 48,
   "id": "ee4d84ce-2ab7-4d14-ab21-42c6dffe883c",
   "metadata": {},
   "outputs": [
    {
     "name": "stderr",
     "output_type": "stream",
     "text": [
      "/Library/Frameworks/Python.framework/Versions/3.10/lib/python3.10/site-packages/sklearn/utils/deprecation.py:87: FutureWarning: Function plot_confusion_matrix is deprecated; Function `plot_confusion_matrix` is deprecated in 1.0 and will be removed in 1.2. Use one of the class methods: ConfusionMatrixDisplay.from_predictions or ConfusionMatrixDisplay.from_estimator.\n",
      "  warnings.warn(msg, category=FutureWarning)\n"
     ]
    },
    {
     "data": {
      "text/plain": [
       "<sklearn.metrics._plot.confusion_matrix.ConfusionMatrixDisplay at 0x1389a8880>"
      ]
     },
     "execution_count": 48,
     "metadata": {},
     "output_type": "execute_result"
    },
    {
     "data": {
      "image/png": "[encoded data removed]",
      "text/plain": [
       "<Figure size 432x288 with 2 Axes>"
      ]
     },
     "metadata": {
      "needs_background": "light"
     },
     "output_type": "display_data"
    }
   ],
   "source": [
    "metrics.plot_confusion_matrix(gs, X_test, y_test, cmap = 'Blues',\n",
    "                             values_format='d', display_labels=['startrek','starwars'])"
   ]
  },
  {
   "cell_type": "code",
   "execution_count": 50,
   "id": "054893ec-a3c1-4ecf-ac9d-3998906d2d62",
   "metadata": {},
   "outputs": [],
   "source": [
    "y_pred = gs.predict(X_test)"
   ]
  },
  {
   "cell_type": "code",
   "execution_count": 51,
   "id": "c4cde2ff-aece-4285-9fe2-0d25f9565bcd",
   "metadata": {},
   "outputs": [],
   "source": [
    "misclassified = X_test[y_test != y_pred]"
   ]
  },
  {
   "cell_type": "code",
   "execution_count": 54,
   "id": "da4b12fb-6c42-451b-883c-d67f71ba266a",
   "metadata": {},
   "outputs": [
    {
     "data": {
      "text/plain": [
       "1860      Kor s facial expression while going mad is gold\n",
       "1323                                   No bell riots     \n",
       "1292                                            Holograms\n",
       "674                                                 Title\n",
       "1664                    Alternate titles for each series \n",
       "                              ...                        \n",
       "1006    The holodeck would have been the perfect place...\n",
       "1258                            Move along home was funny\n",
       "939     What do people think the untitled movies are f...\n",
       "273                       Proton torpedo targeting system\n",
       "1829                                   Looking for a game\n",
       "Name: title, Length: 70, dtype: object"
      ]
     },
     "execution_count": 54,
     "metadata": {},
     "output_type": "execute_result"
    }
   ],
   "source": [
    "misclassified"
   ]
  },
  {
   "cell_type": "code",
   "execution_count": null,
   "id": "62e3ef42-b75b-4574-9306-12b61da2a39e",
   "metadata": {},
   "outputs": [],
   "source": []
  }
 ],
 "metadata": {
  "kernelspec": {
   "display_name": "Python 3 (ipykernel)",
   "language": "python",
   "name": "python3"
  },
  "language_info": {
   "codemirror_mode": {
    "name": "ipython",
    "version": 3
   },
   "file_extension": ".py",
   "mimetype": "text/x-python",
   "name": "python",
   "nbconvert_exporter": "python",
   "pygments_lexer": "ipython3",
   "version": "3.10.2"
  },
  "widgets": {
   "application/vnd.jupyter.widget-state+json": {
    "state": {},
    "version_major": 2,
    "version_minor": 0
   }
  }
 },
 "nbformat": 4,
 "nbformat_minor": 5
}
